{
 "cells": [
  {
   "cell_type": "markdown",
   "metadata": {},
   "source": [
    "# PREPROCESSING IMAGE DATA TO LINKED DATA\n",
    "In this notebook, we evaluate the image assets in a session repository.\n",
    "For every jpeg/png with its accompanying xmp or xmp file, an IMAGENODE metadata class is created \n",
    "that governs all the metadata of the image (paths, pose, etc.).\n",
    "As ouput, the method generates RDF GRAPHS (.ttl) files\n",
    "\n",
    ">This codebase operates on the scan2bim2.yml environment (python 3.8)"
   ]
  },
  {
   "cell_type": "code",
   "execution_count": 1,
   "metadata": {},
   "outputs": [
    {
     "name": "stdout",
     "output_type": "stream",
     "text": [
      "Jupyter environment detected. Enabling Open3D WebVisualizer.\n",
      "[Open3D INFO] WebRTC GUI backend enabled.\n",
      "[Open3D INFO] WebRTCWindowSystem: HTTP handshake server disabled.\n"
     ]
    }
   ],
   "source": [
    "# import APIs\n",
    "import rdflib\n",
    "from rdflib import Graph, plugin\n",
    "from rdflib.serializer import Serializer #pip install rdflib-jsonld https://pypi.org/project/rdflib-jsonld/\n",
    "from rdflib import Graph\n",
    "from rdflib import URIRef, BNode, Literal\n",
    "from rdflib.namespace import CSVW, DC, DCAT, DCTERMS, DOAP, FOAF, ODRL2, ORG, OWL, \\\n",
    "                           PROF, PROV, RDF, RDFS, SDO, SH, SKOS, SOSA, SSN, TIME, \\\n",
    "                           VOID, XMLNS, XSD\n",
    "import uuid    \n",
    "import os.path, time\n",
    "import importlib\n",
    "import PIL\n",
    "import PIL.Image as PILimage\n",
    "from PIL import ImageDraw, ImageFont, ImageEnhance\n",
    "from PIL.ExifTags import TAGS, GPSTAGS\n",
    "import xml.etree.ElementTree as ET\n",
    "import numpy as np\n",
    "import open3d as o3d\n",
    "\n",
    "#IMPORT MODULES\n",
    "import Algorithms.linkeddatatools as ld\n",
    "import Classes.pointcloudnode as pc\n",
    "import Algorithms.scan2bim as s2b\n",
    "import Classes.imagenode as im"
   ]
  },
  {
   "cell_type": "markdown",
   "metadata": {},
   "source": [
    "## 1. INITIALIZE SESSION"
   ]
  },
  {
   "cell_type": "code",
   "execution_count": 2,
   "metadata": {},
   "outputs": [],
   "source": [
    "## INPUTS\n",
    "project_path= \"D:\\\\Data\\\\2018-06 Werfopvolging Academiestraat Gent\"\n",
    "session_path = project_path + \"\\\\week 22\"\n",
    "bim_folderpath = project_path + \"\\\\BIM\"\n",
    "pcd_folderpath = session_path + \"\\\\PCD\"\n",
    "img_folderpath = session_path + \"\\\\IMG\"\n",
    "ortho_folderpath =session_path + \"\\\\ORTHO\"\n",
    "mesh_folderpath = session_path + \"\\\\MESH\"\n",
    "\n",
    "## session initialization missing"
   ]
  },
  {
   "cell_type": "markdown",
   "metadata": {},
   "source": [
    "## 2. READ PRESENT JPEG/PNG/XMP/XML CONTAINING IMAGES + METADATA\n",
    "An IMAGENODE is created per image in the session"
   ]
  },
  {
   "cell_type": "code",
   "execution_count": 6,
   "metadata": {},
   "outputs": [
    {
     "name": "stdout",
     "output_type": "stream",
     "text": [
      "creating ImageNode from D:\\Data\\2018-06 Werfopvolging Academiestraat Gent\\week 22\\IMG_RGB\\IMG_8112.JPG\n"
     ]
    },
    {
     "name": "stderr",
     "output_type": "stream",
     "text": [
      "Traceback (most recent call last):\n",
      "  File \"_pydevd_bundle/pydevd_cython.pyx\", line 1078, in _pydevd_bundle.pydevd_cython.PyDBFrame.trace_dispatch\n",
      "  File \"_pydevd_bundle/pydevd_cython.pyx\", line 297, in _pydevd_bundle.pydevd_cython.PyDBFrame.do_wait_suspend\n",
      "  File \"C:\\Users\\u0094523\\.conda\\envs\\environment\\lib\\site-packages\\debugpy\\_vendored\\pydevd\\pydevd.py\", line 1976, in do_wait_suspend\n",
      "    keep_suspended = self._do_wait_suspend(thread, frame, event, arg, suspend_type, from_this_thread, frames_tracker)\n",
      "  File \"C:\\Users\\u0094523\\.conda\\envs\\environment\\lib\\site-packages\\debugpy\\_vendored\\pydevd\\pydevd.py\", line 2011, in _do_wait_suspend\n",
      "    time.sleep(0.01)\n",
      "KeyboardInterrupt\n"
     ]
    },
    {
     "ename": "KeyboardInterrupt",
     "evalue": "",
     "output_type": "error",
     "traceback": [
      "\u001b[1;31m---------------------------------------------------------------------------\u001b[0m",
      "\u001b[1;31mKeyboardInterrupt\u001b[0m                         Traceback (most recent call last)",
      "\u001b[1;32m~\\AppData\\Local\\Temp/ipykernel_67976/3796057982.py\u001b[0m in \u001b[0;36m<module>\u001b[1;34m\u001b[0m\n\u001b[0;32m     52\u001b[0m         \u001b[1;31m# create guid if none is present\u001b[0m\u001b[1;33m\u001b[0m\u001b[1;33m\u001b[0m\u001b[1;33m\u001b[0m\u001b[0m\n\u001b[0;32m     53\u001b[0m         \u001b[1;32mif\u001b[0m \u001b[0mimgnode\u001b[0m\u001b[1;33m.\u001b[0m\u001b[0mguid\u001b[0m \u001b[1;32mis\u001b[0m \u001b[1;32mNone\u001b[0m\u001b[1;33m:\u001b[0m\u001b[1;33m\u001b[0m\u001b[1;33m\u001b[0m\u001b[0m\n\u001b[1;32m---> 54\u001b[1;33m             \u001b[0mimgnode\u001b[0m\u001b[1;33m.\u001b[0m\u001b[0mguid\u001b[0m\u001b[1;33m=\u001b[0m \u001b[1;34m'{'\u001b[0m\u001b[1;33m+\u001b[0m\u001b[0mstr\u001b[0m\u001b[1;33m(\u001b[0m\u001b[0muuid\u001b[0m\u001b[1;33m.\u001b[0m\u001b[0muuid1\u001b[0m\u001b[1;33m(\u001b[0m\u001b[1;33m)\u001b[0m\u001b[1;33m)\u001b[0m\u001b[1;33m+\u001b[0m\u001b[1;34m'}'\u001b[0m\u001b[1;33m\u001b[0m\u001b[1;33m\u001b[0m\u001b[0m\n\u001b[0m\u001b[0;32m     55\u001b[0m \u001b[1;33m\u001b[0m\u001b[0m\n\u001b[0;32m     56\u001b[0m         \u001b[0mimgnodelist\u001b[0m\u001b[1;33m.\u001b[0m\u001b[0mappend\u001b[0m\u001b[1;33m(\u001b[0m\u001b[0mimgnode\u001b[0m\u001b[1;33m)\u001b[0m\u001b[1;33m\u001b[0m\u001b[1;33m\u001b[0m\u001b[0m\n",
      "\u001b[1;32m~\\AppData\\Local\\Temp/ipykernel_67976/3796057982.py\u001b[0m in \u001b[0;36m<module>\u001b[1;34m\u001b[0m\n\u001b[0;32m     52\u001b[0m         \u001b[1;31m# create guid if none is present\u001b[0m\u001b[1;33m\u001b[0m\u001b[1;33m\u001b[0m\u001b[1;33m\u001b[0m\u001b[0m\n\u001b[0;32m     53\u001b[0m         \u001b[1;32mif\u001b[0m \u001b[0mimgnode\u001b[0m\u001b[1;33m.\u001b[0m\u001b[0mguid\u001b[0m \u001b[1;32mis\u001b[0m \u001b[1;32mNone\u001b[0m\u001b[1;33m:\u001b[0m\u001b[1;33m\u001b[0m\u001b[1;33m\u001b[0m\u001b[0m\n\u001b[1;32m---> 54\u001b[1;33m             \u001b[0mimgnode\u001b[0m\u001b[1;33m.\u001b[0m\u001b[0mguid\u001b[0m\u001b[1;33m=\u001b[0m \u001b[1;34m'{'\u001b[0m\u001b[1;33m+\u001b[0m\u001b[0mstr\u001b[0m\u001b[1;33m(\u001b[0m\u001b[0muuid\u001b[0m\u001b[1;33m.\u001b[0m\u001b[0muuid1\u001b[0m\u001b[1;33m(\u001b[0m\u001b[1;33m)\u001b[0m\u001b[1;33m)\u001b[0m\u001b[1;33m+\u001b[0m\u001b[1;34m'}'\u001b[0m\u001b[1;33m\u001b[0m\u001b[1;33m\u001b[0m\u001b[0m\n\u001b[0m\u001b[0;32m     55\u001b[0m \u001b[1;33m\u001b[0m\u001b[0m\n\u001b[0;32m     56\u001b[0m         \u001b[0mimgnodelist\u001b[0m\u001b[1;33m.\u001b[0m\u001b[0mappend\u001b[0m\u001b[1;33m(\u001b[0m\u001b[0mimgnode\u001b[0m\u001b[1;33m)\u001b[0m\u001b[1;33m\u001b[0m\u001b[1;33m\u001b[0m\u001b[0m\n",
      "\u001b[1;32m_pydevd_bundle/pydevd_cython.pyx\u001b[0m in \u001b[0;36m_pydevd_bundle.pydevd_cython.SafeCallWrapper.__call__\u001b[1;34m()\u001b[0m\n",
      "\u001b[1;32m_pydevd_bundle/pydevd_cython.pyx\u001b[0m in \u001b[0;36m_pydevd_bundle.pydevd_cython.PyDBFrame.trace_dispatch\u001b[1;34m()\u001b[0m\n",
      "\u001b[1;32m_pydevd_bundle/pydevd_cython.pyx\u001b[0m in \u001b[0;36m_pydevd_bundle.pydevd_cython.PyDBFrame.trace_dispatch\u001b[1;34m()\u001b[0m\n",
      "\u001b[1;32m_pydevd_bundle/pydevd_cython.pyx\u001b[0m in \u001b[0;36m_pydevd_bundle.pydevd_cython.PyDBFrame.trace_dispatch\u001b[1;34m()\u001b[0m\n",
      "\u001b[1;32m_pydevd_bundle/pydevd_cython.pyx\u001b[0m in \u001b[0;36m_pydevd_bundle.pydevd_cython.PyDBFrame.do_wait_suspend\u001b[1;34m()\u001b[0m\n",
      "\u001b[1;32m~\\.conda\\envs\\environment\\lib\\site-packages\\debugpy\\_vendored\\pydevd\\pydevd.py\u001b[0m in \u001b[0;36mdo_wait_suspend\u001b[1;34m(self, thread, frame, event, arg, exception_type)\u001b[0m\n\u001b[0;32m   1974\u001b[0m \u001b[1;33m\u001b[0m\u001b[0m\n\u001b[0;32m   1975\u001b[0m             \u001b[1;32mwith\u001b[0m \u001b[0mself\u001b[0m\u001b[1;33m.\u001b[0m\u001b[0m_threads_suspended_single_notification\u001b[0m\u001b[1;33m.\u001b[0m\u001b[0mnotify_thread_suspended\u001b[0m\u001b[1;33m(\u001b[0m\u001b[0mthread_id\u001b[0m\u001b[1;33m,\u001b[0m \u001b[0mstop_reason\u001b[0m\u001b[1;33m)\u001b[0m\u001b[1;33m:\u001b[0m\u001b[1;33m\u001b[0m\u001b[1;33m\u001b[0m\u001b[0m\n\u001b[1;32m-> 1976\u001b[1;33m                 \u001b[0mkeep_suspended\u001b[0m \u001b[1;33m=\u001b[0m \u001b[0mself\u001b[0m\u001b[1;33m.\u001b[0m\u001b[0m_do_wait_suspend\u001b[0m\u001b[1;33m(\u001b[0m\u001b[0mthread\u001b[0m\u001b[1;33m,\u001b[0m \u001b[0mframe\u001b[0m\u001b[1;33m,\u001b[0m \u001b[0mevent\u001b[0m\u001b[1;33m,\u001b[0m \u001b[0marg\u001b[0m\u001b[1;33m,\u001b[0m \u001b[0msuspend_type\u001b[0m\u001b[1;33m,\u001b[0m \u001b[0mfrom_this_thread\u001b[0m\u001b[1;33m,\u001b[0m \u001b[0mframes_tracker\u001b[0m\u001b[1;33m)\u001b[0m\u001b[1;33m\u001b[0m\u001b[1;33m\u001b[0m\u001b[0m\n\u001b[0m\u001b[0;32m   1977\u001b[0m \u001b[1;33m\u001b[0m\u001b[0m\n\u001b[0;32m   1978\u001b[0m         \u001b[0mframes_list\u001b[0m \u001b[1;33m=\u001b[0m \u001b[1;32mNone\u001b[0m\u001b[1;33m\u001b[0m\u001b[1;33m\u001b[0m\u001b[0m\n",
      "\u001b[1;32m~\\.conda\\envs\\environment\\lib\\site-packages\\debugpy\\_vendored\\pydevd\\pydevd.py\u001b[0m in \u001b[0;36m_do_wait_suspend\u001b[1;34m(self, thread, frame, event, arg, suspend_type, from_this_thread, frames_tracker)\u001b[0m\n\u001b[0;32m   2009\u001b[0m \u001b[1;33m\u001b[0m\u001b[0m\n\u001b[0;32m   2010\u001b[0m             \u001b[0mself\u001b[0m\u001b[1;33m.\u001b[0m\u001b[0mprocess_internal_commands\u001b[0m\u001b[1;33m(\u001b[0m\u001b[1;33m)\u001b[0m\u001b[1;33m\u001b[0m\u001b[1;33m\u001b[0m\u001b[0m\n\u001b[1;32m-> 2011\u001b[1;33m             \u001b[0mtime\u001b[0m\u001b[1;33m.\u001b[0m\u001b[0msleep\u001b[0m\u001b[1;33m(\u001b[0m\u001b[1;36m0.01\u001b[0m\u001b[1;33m)\u001b[0m\u001b[1;33m\u001b[0m\u001b[1;33m\u001b[0m\u001b[0m\n\u001b[0m\u001b[0;32m   2012\u001b[0m \u001b[1;33m\u001b[0m\u001b[0m\n\u001b[0;32m   2013\u001b[0m         \u001b[0mself\u001b[0m\u001b[1;33m.\u001b[0m\u001b[0mcancel_async_evaluation\u001b[0m\u001b[1;33m(\u001b[0m\u001b[0mget_current_thread_id\u001b[0m\u001b[1;33m(\u001b[0m\u001b[0mthread\u001b[0m\u001b[1;33m)\u001b[0m\u001b[1;33m,\u001b[0m \u001b[0mstr\u001b[0m\u001b[1;33m(\u001b[0m\u001b[0mid\u001b[0m\u001b[1;33m(\u001b[0m\u001b[0mframe\u001b[0m\u001b[1;33m)\u001b[0m\u001b[1;33m)\u001b[0m\u001b[1;33m)\u001b[0m\u001b[1;33m\u001b[0m\u001b[1;33m\u001b[0m\u001b[0m\n",
      "\u001b[1;31mKeyboardInterrupt\u001b[0m: "
     ]
    }
   ],
   "source": [
    "# Retrieve all image files in the session along with their xml metadata\n",
    "importlib.reload(ld)\n",
    "importlib.reload(s2b)\n",
    "importlib.reload(im)\n",
    "\n",
    "all_session_file_paths=ld.getListOfFiles(session_path) \n",
    "img_file_paths=[] # these are string .e57file paths\n",
    "img_xmp_paths=[] # (RealityCapture) these are string .xmp file paths\n",
    "img_xml_paths=[] # (MetaShape) these are string .xml file paths\n",
    "imgnodelist=[]\n",
    "exif_counter=0\n",
    "xmp_counter=0\n",
    "xml_counter=0\n",
    "\n",
    "for file_path in all_session_file_paths:        \n",
    "    if file_path.endswith(\".JPG\"): #file_path.endswith(\".png\") or\n",
    "        #create imgnode\n",
    "        print('creating ImageNode from '+file_path)\n",
    "        imgnode=im.ImageNode()\n",
    "        imgnode.session_path=session_path\n",
    "        imgnode.timestamp=ld.get_timestamp(file_path) # this is a long float nr\n",
    "        imgnode.name=ld.get_filename(file_path)\n",
    "        imgnode.img_path=file_path\n",
    "        imgnode.img=PILimage.open(file_path)    \n",
    "        img_file_paths.append(file_path) \n",
    "\n",
    "        test_xmp_path=file_path.replace('JPG','xmp')\n",
    "        test_xml_path=file_path.replace('JPG','xml')\n",
    "        \n",
    "        #1. see if image itself contains some exif data\n",
    "        imgnode.get_exif_data()\n",
    "        if imgnode.exif_data is not None:\n",
    "            imgnode.set_exif_data()\n",
    "            if imgnode.GlobalPose.SphericalTranslation.lat is not None:\n",
    "                imgnode.coordinate_system='geospatial-wgs84'\n",
    "                exif_counter +=1\n",
    "            #report the nr of images that had exif data\n",
    "\n",
    "        # 2. if there is a matching xmp file, overwrite the overlapping information   \n",
    "        if test_xmp_path in all_session_file_paths:\n",
    "            img_xmp_paths.append(test_xmp_path)  \n",
    "            imgnode.read_img_xmp(test_xmp_path)  # check if Coordinates are absolute for WGS84?\n",
    "            xmp_counter+=1  \n",
    "            #report the number of images that had xmp information        \n",
    "\n",
    "        # 3. or, if there is a matching xml file, overwrite the overlapping information   \n",
    "        elif test_xml_path in all_session_file_paths:\n",
    "            img_xml_paths.append(test_xml_path)  \n",
    "            # imgnode.read_img_xml(test_xmp_path)  #not implemented\n",
    "            xml_counter+=1  \n",
    "\n",
    "        # create guid if none is present\n",
    "        if imgnode.guid is None:\n",
    "            imgnode.guid= '{'+str(uuid.uuid1())+'}'    \n",
    "       \n",
    "        imgnodelist.append(imgnode)              \n",
    "print(str(len(imgnodelist))+' ImageNodes are created.')\n",
    "print(str(exif_counter)+' have poses in exif data')\n",
    "print(str(xmp_counter)+' have poses in xmp data')\n",
    "print(str(xml_counter)+' have poses in xml data (not implemented yet)')\n",
    "print('Note that these nodes do not yet contain actual data but only the metadata')"
   ]
  },
  {
   "cell_type": "markdown",
   "metadata": {},
   "source": [
    "## 3. CREATE RDF GRAPH FOR All IMAGENODES AND EXPORT THEM TO .TTL\n",
    "An RDF graph and .ttl file is created for all images in the session\n",
    "(images themselves are not stored in the graph, only metadata)"
   ]
  },
  {
   "cell_type": "code",
   "execution_count": 45,
   "metadata": {},
   "outputs": [
    {
     "name": "stdout",
     "output_type": "stream",
     "text": [
      "720 ImageNodes succesfully serialized in: D:\\Data\\2018-06 Werfopvolging Academiestraat Gent\\week 22\\PCD\\imgGraph.ttl\n"
     ]
    }
   ],
   "source": [
    "importlib.reload(ld)\n",
    "importlib.reload(s2b)\n",
    "importlib.reload(im)\n",
    "\n",
    "fail_counter=0\n",
    "g=Graph()\n",
    "for idx,imgnode in enumerate(imgnodelist):\n",
    "    try:\n",
    "        imgnode.add_to_rdf_graph()\n",
    "        g=g+imgnode.rdf_graph\n",
    "        imgnode.rdf_graph_path=imgnode.session_path+\"\\\\IMG_RGB\\\\imgGraph.ttl\"\n",
    "    except:\n",
    "        print('ImagedNode '+str(idx)+' could not be serialized.')\n",
    "        fail_counter+=1\n",
    "        continue\n",
    "\n",
    "#write first image rdf    \n",
    "g.serialize(destination=str(imgnodelist[0].rdf_graph_path), format='ttl')\n",
    "print (str(len(imgnodelist)-fail_counter)+' ImageNodes succesfully serialized in: '+str(imgnode.rdf_graph_path))"
   ]
  }
 ],
 "metadata": {
  "interpreter": {
   "hash": "460e66ca5f23cd63717e22731b88d79e724e92cbf76c04a2890b8d427aa9f0e6"
  },
  "kernelspec": {
   "display_name": "Python 3.8.12 64-bit ('environment': conda)",
   "language": "python",
   "name": "python3"
  },
  "language_info": {
   "codemirror_mode": {
    "name": "ipython",
    "version": 3
   },
   "file_extension": ".py",
   "mimetype": "text/x-python",
   "name": "python",
   "nbconvert_exporter": "python",
   "pygments_lexer": "ipython3",
   "version": "3.8.12"
  },
  "orig_nbformat": 4
 },
 "nbformat": 4,
 "nbformat_minor": 2
}
