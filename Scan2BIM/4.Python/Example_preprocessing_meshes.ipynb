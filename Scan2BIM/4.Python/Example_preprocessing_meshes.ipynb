{
 "cells": [
  {
   "cell_type": "markdown",
   "metadata": {},
   "source": [
    "# PREPROCESSING MESH DATA TO LINKED DATA\n",
    "In this notebook, we evaluate the mesh assets in a session repository.\n",
    "For every obj or ply polygonal mesh, a MESHNODE metadata class is created \n",
    "that governs all the metadata of the mesh (paths, pose, etc.).\n",
    "As ouput, the method generates RDF GRAPHS (.ttl) and O3D.GEOMETRY.MESH files\n",
    "\n",
    ">This codebase operates on the scan2bim2.yml environment (python 3.8)"
   ]
  },
  {
   "cell_type": "code",
   "execution_count": 1,
   "metadata": {},
   "outputs": [
    {
     "name": "stdout",
     "output_type": "stream",
     "text": [
      "Jupyter environment detected. Enabling Open3D WebVisualizer.\n",
      "[Open3D INFO] WebRTC GUI backend enabled.\n",
      "[Open3D INFO] WebRTCWindowSystem: HTTP handshake server disabled.\n"
     ]
    },
    {
     "ename": "NameError",
     "evalue": "name 'self' is not defined",
     "output_type": "error",
     "traceback": [
      "\u001b[1;31m---------------------------------------------------------------------------\u001b[0m",
      "\u001b[1;31mNameError\u001b[0m                                 Traceback (most recent call last)",
      "\u001b[1;32m~\\AppData\\Local\\Temp/ipykernel_2560/3440854235.py\u001b[0m in \u001b[0;36m<module>\u001b[1;34m\u001b[0m\n\u001b[0;32m     17\u001b[0m \u001b[1;31m#IMPORT MODULES\u001b[0m\u001b[1;33m\u001b[0m\u001b[1;33m\u001b[0m\u001b[1;33m\u001b[0m\u001b[0m\n\u001b[0;32m     18\u001b[0m \u001b[1;32mimport\u001b[0m \u001b[0mAlgorithms\u001b[0m\u001b[1;33m.\u001b[0m\u001b[0mlinkeddatatools\u001b[0m \u001b[1;32mas\u001b[0m \u001b[0mld\u001b[0m\u001b[1;33m\u001b[0m\u001b[1;33m\u001b[0m\u001b[0m\n\u001b[1;32m---> 19\u001b[1;33m \u001b[1;32mimport\u001b[0m \u001b[0mClasses\u001b[0m\u001b[1;33m.\u001b[0m\u001b[0mmeshnode\u001b[0m \u001b[1;32mas\u001b[0m \u001b[0mmn\u001b[0m\u001b[1;33m\u001b[0m\u001b[1;33m\u001b[0m\u001b[0m\n\u001b[0m\u001b[0;32m     20\u001b[0m \u001b[1;32mimport\u001b[0m \u001b[0mAlgorithms\u001b[0m\u001b[1;33m.\u001b[0m\u001b[0mscan2bim\u001b[0m \u001b[1;32mas\u001b[0m \u001b[0ms2b\u001b[0m\u001b[1;33m\u001b[0m\u001b[1;33m\u001b[0m\u001b[0m\n",
      "\u001b[1;32md:\\Scan-to-BIM repository\\Scan-to-BIM-Grasshopper\\Scan2BIM\\4.Python\\Classes\\meshnode.py\u001b[0m in \u001b[0;36m<module>\u001b[1;34m\u001b[0m\n\u001b[0;32m     57\u001b[0m }\n\u001b[0;32m     58\u001b[0m \u001b[1;33m\u001b[0m\u001b[0m\n\u001b[1;32m---> 59\u001b[1;33m \u001b[1;32mclass\u001b[0m \u001b[0mMeshNode\u001b[0m\u001b[1;33m:\u001b[0m\u001b[1;33m\u001b[0m\u001b[1;33m\u001b[0m\u001b[0m\n\u001b[0m\u001b[0;32m     60\u001b[0m     \u001b[1;31m# class attributes\u001b[0m\u001b[1;33m\u001b[0m\u001b[1;33m\u001b[0m\u001b[1;33m\u001b[0m\u001b[0m\n\u001b[0;32m     61\u001b[0m \u001b[1;33m\u001b[0m\u001b[0m\n",
      "\u001b[1;32md:\\Scan-to-BIM repository\\Scan-to-BIM-Grasshopper\\Scan2BIM\\4.Python\\Classes\\meshnode.py\u001b[0m in \u001b[0;36mMeshNode\u001b[1;34m()\u001b[0m\n\u001b[0;32m     61\u001b[0m \u001b[1;33m\u001b[0m\u001b[0m\n\u001b[0;32m     62\u001b[0m     \u001b[1;31m#instance attributes\u001b[0m\u001b[1;33m\u001b[0m\u001b[1;33m\u001b[0m\u001b[1;33m\u001b[0m\u001b[0m\n\u001b[1;32m---> 63\u001b[1;33m     \u001b[0mself\u001b[0m\u001b[1;33m.\u001b[0m\u001b[0mname\u001b[0m \u001b[1;33m=\u001b[0m \u001b[1;32mNone\u001b[0m \u001b[1;31m# (string) PointCloudNode name => these are instance attributes\u001b[0m\u001b[1;33m\u001b[0m\u001b[1;33m\u001b[0m\u001b[0m\n\u001b[0m\u001b[0;32m     64\u001b[0m     \u001b[0mself\u001b[0m\u001b[1;33m.\u001b[0m\u001b[0mguid\u001b[0m \u001b[1;33m=\u001b[0m \u001b[1;32mNone\u001b[0m \u001b[1;31m# (string) PointCloudNode guid\u001b[0m\u001b[1;33m\u001b[0m\u001b[1;33m\u001b[0m\u001b[0m\n\u001b[0;32m     65\u001b[0m     \u001b[0mself\u001b[0m\u001b[1;33m.\u001b[0m\u001b[0msession_name\u001b[0m \u001b[1;33m=\u001b[0m \u001b[1;32mNone\u001b[0m  \u001b[1;31m# (string) session subject name\u001b[0m\u001b[1;33m\u001b[0m\u001b[1;33m\u001b[0m\u001b[0m\n",
      "\u001b[1;31mNameError\u001b[0m: name 'self' is not defined"
     ]
    }
   ],
   "source": [
    "#IMPORT PACKAGES\n",
    "import rdflib\n",
    "from rdflib import Graph, plugin\n",
    "from rdflib.serializer import Serializer #pip install rdflib-jsonld https://pypi.org/project/rdflib-jsonld/\n",
    "from rdflib import Graph\n",
    "from rdflib import URIRef, BNode, Literal\n",
    "from rdflib.namespace import CSVW, DC, DCAT, DCTERMS, DOAP, FOAF, ODRL2, ORG, OWL, \\\n",
    "                           PROF, PROV, RDF, RDFS, SDO, SH, SKOS, SOSA, SSN, TIME, \\\n",
    "                           VOID, XMLNS, XSD\n",
    "\n",
    "import os.path, time\n",
    "import importlib\n",
    "import numpy as np\n",
    "import xml.etree.ElementTree as ET\n",
    "import open3d as o3d\n",
    "import uuid    \n",
    "\n",
    "#IMPORT MODULES\n",
    "import Algorithms.linkeddatatools as ld\n",
    "import Classes.meshnode as mn\n",
    "import Algorithms.scan2bim as s2b"
   ]
  },
  {
   "cell_type": "markdown",
   "metadata": {},
   "source": [
    "## 1. INITIALIZE SESSION"
   ]
  },
  {
   "cell_type": "code",
   "execution_count": null,
   "metadata": {},
   "outputs": [],
   "source": [
    "## INPUTS\n",
    "project_path= \"D:\\\\Data\\\\2018-06 Werfopvolging Academiestraat Gent\"\n",
    "session_path = project_path + \"\\\\week 22\"\n",
    "bim_folderpath = project_path + \"\\\\BIM\"\n",
    "pcd_folderpath = session_path + \"\\\\PCD\"\n",
    "img_folderpath = session_path + \"\\\\IMG\"\n",
    "ortho_folderpath =session_path + \"\\\\ORTHO\"\n",
    "mesh_folderpath = session_path + \"\\\\MESH\"\n",
    "\n",
    "sensor=\"Holelens\" # (string) P30, BLK, Hololens2, CANON (zie exif), etc.\n",
    "accuracy=0.05\n",
    "## session initialization missing"
   ]
  },
  {
   "cell_type": "markdown",
   "metadata": {},
   "source": [
    "## 2. READ PRESENT OBJ/PLY FILES CONTAINING POLYGONAL MESHES\n",
    "A MeshNode is created per polygonal mesh in the session"
   ]
  },
  {
   "cell_type": "code",
   "execution_count": null,
   "metadata": {},
   "outputs": [],
   "source": [
    "# Retrieve all image files in the session along with their xml metadata\n",
    "importlib.reload(ld)\n",
    "importlib.reload(s2b)\n",
    "importlib.reload(mn)\n",
    "\n",
    "all_session_file_paths=ld.getListOfFiles(session_path) \n",
    "mesh_file_paths=[] # these are string file paths\n",
    "meshnodelist=[]\n",
    "obj_counter=0\n",
    "ply_counter=0\n",
    "\n",
    "for file_path in all_session_file_paths:        \n",
    "    if file_path.endswith(\".obj\") or file_path.endswith(\".ply\"): \n",
    "        #create imgnode\n",
    "        print('creating MeshNode from '+file_path)\n",
    "        meshnode=mn.MeshNode()\n",
    "        meshnode.session_path=session_path\n",
    "        meshnode.timestamp=ld.get_timestamp(file_path) # this is a long float nr\n",
    "        meshnode.name=ld.get_filename(file_path)\n",
    "        meshnode.mesh_path=file_path\n",
    "        mesh_file_paths.append(file_path) \n",
    "        meshnode.sensor = sensor\n",
    "        meshnode.accuracy=accuracy\n",
    "\n",
    "        meshnode.o3d_mesh=o3d.io.read_triangle_mesh(file_path)  \n",
    "        # visualize(meshnode.mesh) # optionally view the mesh node\n",
    "\n",
    "        if file_path.endswith(\".obj\"):\n",
    "            meshnode.set_metadata_from_obj()\n",
    "            obj_counter+=1\n",
    "        elif file_path.endswith(\".ply\"):\n",
    "            meshnode.set_metadata_from_ply()\n",
    "            ply_counter+=1\n",
    "\n",
    "        # create guid if none is present\n",
    "        if meshnode.guid is None:\n",
    "            meshnode.guid= '{'+str(uuid.uuid1())+'}'    \n",
    "       \n",
    "        meshnodelist.append(meshnode)              \n",
    "print(str(len(meshnodelist))+' MeshNodes are created.')\n",
    "print(str(obj_counter)+' are .obj files')\n",
    "print(str(ply_counter)+' are .ply files')\n",
    "print('Note that these nodes do not necesserily contain the actual data but only the metadata')"
   ]
  }
 ],
 "metadata": {
  "interpreter": {
   "hash": "460e66ca5f23cd63717e22731b88d79e724e92cbf76c04a2890b8d427aa9f0e6"
  },
  "kernelspec": {
   "display_name": "Python 3.8.12 64-bit ('environment': conda)",
   "language": "python",
   "name": "python3"
  },
  "language_info": {
   "codemirror_mode": {
    "name": "ipython",
    "version": 3
   },
   "file_extension": ".py",
   "mimetype": "text/x-python",
   "name": "python",
   "nbconvert_exporter": "python",
   "pygments_lexer": "ipython3",
   "version": "3.8.12"
  },
  "orig_nbformat": 4
 },
 "nbformat": 4,
 "nbformat_minor": 2
}
