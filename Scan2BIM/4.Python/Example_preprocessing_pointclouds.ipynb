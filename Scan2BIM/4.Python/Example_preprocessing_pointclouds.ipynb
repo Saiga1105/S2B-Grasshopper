{
 "cells": [
  {
   "cell_type": "markdown",
   "metadata": {},
   "source": [
    "# PREPROCESSING POINT CLOUD DATA TO LINKED DATA\n",
    "In this notebook, we evaluate the point cloud assets in a session repository.\n",
    "For every e57 point cloud with its accompanying xml file, a POINTCLOUDNODE metadata class is created \n",
    "that governs all the metadata of the point cloud (paths, pose, etc.).\n",
    "As ouput, the method generates RDF GRAPHS (.ttl) and O3D.GEOMETRY.POINTCLOUD (.pcd) files\n",
    "\n",
    ">This codebase operates on the scan2bim2.yml environment (python 3.8)"
   ]
  },
  {
   "cell_type": "code",
   "execution_count": 12,
   "metadata": {},
   "outputs": [],
   "source": [
    "#IMPORT PACKAGES\n",
    "import rdflib\n",
    "from rdflib import Graph, plugin\n",
    "from rdflib.serializer import Serializer #pip install rdflib-jsonld https://pypi.org/project/rdflib-jsonld/\n",
    "from rdflib import Graph\n",
    "from rdflib import URIRef, BNode, Literal\n",
    "from rdflib.namespace import CSVW, DC, DCAT, DCTERMS, DOAP, FOAF, ODRL2, ORG, OWL, \\\n",
    "                           PROF, PROV, RDF, RDFS, SDO, SH, SKOS, SOSA, SSN, TIME, \\\n",
    "                           VOID, XMLNS, XSD\n",
    "\n",
    "import os.path, time\n",
    "import importlib\n",
    "import numpy as np\n",
    "import xml.etree.ElementTree as ET\n",
    "import open3d as o3d\n",
    "import uuid    \n",
    "\n",
    "#IMPORT MODULES\n",
    "import Algorithms.linkeddatatools as ld\n",
    "import Classes.pointcloudnode as pc\n",
    "import Algorithms.scan2bim as s2b\n"
   ]
  },
  {
   "cell_type": "markdown",
   "metadata": {},
   "source": [
    "## 1. INITIALIZE SESSION"
   ]
  },
  {
   "cell_type": "code",
   "execution_count": 13,
   "metadata": {},
   "outputs": [],
   "source": [
    "## INPUTS\n",
    "project_path= \"D:\\\\Data\\\\2018-06 Werfopvolging Academiestraat Gent\"\n",
    "session_path = project_path + \"\\\\week 22\"\n",
    "bim_folderpath = project_path + \"\\\\BIM\"\n",
    "pcd_folderpath = session_path + \"\\\\PCD\"\n",
    "img_folderpath = session_path + \"\\\\IMG\"\n",
    "ortho_folderpath =session_path + \"\\\\ORTHO\"\n",
    "mesh_folderpath = session_path + \"\\\\MESH\"\n",
    "\n",
    "## session initialization missing"
   ]
  },
  {
   "cell_type": "code",
   "execution_count": null,
   "metadata": {},
   "outputs": [],
   "source": [
    "# # run e57xmldump.exe on e57 files:THIS CURRENTLY DOESN4T WORK\n",
    "# command = \"\"\n",
    "# command = \"D:\\\\Scan-to-BIM repository\\\\Scan-to-BIM-Grasshopper\\\\Scan2BIM\\\\4.Python\\\\e57xmldump \"\n",
    "# command = command + pcdfolderpath+filepath\n",
    "# command = command + \" > \" + pcdfolderpath+filepath.replace('.e57', '.xml') \n",
    "# command = \".\\e57xmldump\" +' \"'+filepath+'\" ' +\">\"+ ' \"'+filepath.replace('.e57', '.xml') +'\" '\n",
    "\n",
    "# # os.system(command)\n",
    "# #os.system(\".\\e57xmldump D:\\\\Data\\\\2018-06 Werfopvolging Academiestraat Gent\\\\week 22\\\\PCD\\\\week 22 lidar.e57 > D:\\\\Data\\\\2018-06 Werfopvolging Academiestraat Gent\\\\week 22\\\\PCD\\\\week 22 lidar.xml\")\n",
    "# # there is an issue with this command\n",
    "# # import subprocess\n",
    "# # subprocess.run([\"e57xmldump\", \"D:\\\\Data\\\\2018-06 Werfopvolging Academiestraat Gent\\\\week 22\\\\PCD\\\\week22_photogrammetry_densecloud - Cloud.e57\",\"D:\\\\Data\\\\2018-06 Werfopvolging Academiestraat Gent\\\\week 22\\\\PCD\\\\week22_photogrammetry_densecloud - Cloud.xml\"],shell=True)\n",
    "# # THIS COMMAND WORKS IN CMD BUT NOT WITH OS.SYSTEM\n",
    "# # command = '.\\e57xmldump \"D:\\\\Data\\\\2018-06 Werfopvolging Academiestraat Gent\\\\week 22\\\\PCD\\\\week22 photogrammetry - Cloud.e57\" > \"D:\\\\Data\\\\2018-06 Werfopvolging Academiestraat Gent\\\\week 22\\\\PCD\\\\week22 photogrammetry - Cloud.xml\"'\n",
    "# # os.system(command)\n",
    "# .\\e57xmldump \"D:\\\\Data\\\\2021-07 Peter Benoitlaan\\\\PCD\\\\Peter Benoitlaan 16 1.e57\" > \"D:\\\\Data\\\\2021-07 Peter Benoitlaan\\\\PCD\\\\Peter Benoitlaan 16 1.xml\""
   ]
  },
  {
   "cell_type": "markdown",
   "metadata": {},
   "source": [
    "## 2. READ PRESENT E57 XML/.E57 FILES CONTAINING POINT CLOUDS\n",
    "A PointCloudNode is created per e57 point cloud scan in the session\n",
    "This codes presumes that .e57xmldump.exe has generated an .xml metadata file for every e57 in the session\n",
    "Also, the .xml should not contain <?xml version=\"1.0\" encoding=\"UTF-8\"?>\n",
    "E.g.: .\\e57xmldump \"D:\\\\Data\\\\2018-06 Werfopvolging Academiestraat Gent\\\\week 22\\\\PCD\\\\week22 photogrammetry - Cloud.e57\" > \"D:\\\\Data\\\\2018-06 Werfopvolging Academiestraat Gent\\\\week 22\\\\PCD\\\\week22 photogrammetry - Cloud.xml\""
   ]
  },
  {
   "cell_type": "code",
   "execution_count": 20,
   "metadata": {},
   "outputs": [
    {
     "name": "stdout",
     "output_type": "stream",
     "text": [
      "e57 file found with matching xml: D:\\Data\\2018-06 Werfopvolging Academiestraat Gent\\week 22\\PCD\\week 22 lidar_CC.e57\n",
      "e57 file found with matching xml: D:\\Data\\2018-06 Werfopvolging Academiestraat Gent\\week 22\\PCD\\week22 photogrammetry - Cloud.e57\n",
      "e57 file found with matching xml: D:\\Data\\2018-06 Werfopvolging Academiestraat Gent\\week 22\\PCD\\week22_photogrammetry_densecloud - Cloud.e57\n",
      "48 PointCloudNodes have been created based on 3 matching e57 and xml files.\n",
      "Note that these nodes do not yet contain actual data but only the e57 metadata\n"
     ]
    }
   ],
   "source": [
    "# Retrieve all (.e57) files in the session along with their xml metadata\n",
    "importlib.reload(ld)\n",
    "importlib.reload(pc)\n",
    "importlib.reload(s2b)\n",
    "\n",
    "all_session_file_paths=ld.getListOfFiles(session_path) \n",
    "e57_file_paths=[] # these are string .e57file paths\n",
    "e57_xml_paths=[] # these are string .xml file paths\n",
    "pcdnodelist=[]\n",
    "\n",
    "for file_path in all_session_file_paths:        \n",
    "    if file_path.endswith(\".e57\"): \n",
    "        e57_file_paths.append(file_path)  \n",
    "        test_e57_xml_path=file_path.replace('e57','xml')\n",
    "        if test_e57_xml_path in all_session_file_paths:\n",
    "            print('e57 file found with matching xml: '+file_path)\n",
    "            e57_xml_paths.append(test_e57_xml_path)  \n",
    "            # mytree = ET.parse(test_e57_xml_path)\n",
    "            # root = mytree.getroot()\n",
    "            pcdnodelist.extend(ld.read_e57_xml(test_e57_xml_path)) # this creates PointCloudNode instances for each scan\n",
    "            \n",
    "for pcdnode in pcdnodelist:\n",
    "    pcdnode.session_path=session_path\n",
    "    # create timestamp is none is present\n",
    "    if pcdnode.timestamp is None:\n",
    "        pcdnode.timestamp=time.ctime(os.path.getctime(session_path))    \n",
    "    # create guid if none is present\n",
    "    if pcdnode.guid is None:\n",
    "        pcdnode.guid= '{'+str(uuid.uuid1())+'}'    \n",
    "\n",
    "print(str(len(pcdnodelist))+' PointCloudNodes have been created based on '+ str(len(e57_xml_paths)) +' matching e57 and xml files.')\n",
    "print('Note that these nodes do not yet contain actual data but only the e57 metadata')"
   ]
  },
  {
   "cell_type": "code",
   "execution_count": 15,
   "metadata": {},
   "outputs": [
    {
     "name": "stdout",
     "output_type": "stream",
     "text": [
      "accuracies have been set based on .e57 names (photo, blk, p30)!\n"
     ]
    }
   ],
   "source": [
    "#set accuracy of all nodes manually based on their names \n",
    "for pcdnode in pcdnodelist:\n",
    "    if 'photo'in pcdnode.name:\n",
    "        pcdnode.accuracy=0.05\n",
    "    elif 'blk' in pcdnode.name:\n",
    "        pcdnode.accuracy=0.03\n",
    "    elif 'p30' in pcdnode.name:\n",
    "        pcdnode.accuracy=0.01\n",
    "    else:\n",
    "        pcdnode.accuracy=0.05\n",
    "print('Accuracies have been set based on .e57 names (photo, blk, p30)!')"
   ]
  },
  {
   "cell_type": "code",
   "execution_count": 16,
   "metadata": {},
   "outputs": [
    {
     "name": "stdout",
     "output_type": "stream",
     "text": [
      "Node coordinate systems have been set based on .e57 names (l72, l2008, wgs84, local)!\n"
     ]
    }
   ],
   "source": [
    "for pcdnode in pcdnodelist:\n",
    "    if 'l72'in pcdnode.name:\n",
    "        pcdnode.coordinate_system='Lambert72'\n",
    "    elif 'l2008' in pcdnode.name:\n",
    "        pcdnode.coordinate_system='Lambert2008'\n",
    "    elif 'wgs84' in pcdnode.name:\n",
    "        pcdnode.coordinate_system='geospatial-wgs84'\n",
    "    else:\n",
    "        pcdnode.coordinate_system='local'\n",
    "print('Node coordinate systems have been set based on .e57 names (l72, l2008, wgs84, local)!')"
   ]
  },
  {
   "cell_type": "markdown",
   "metadata": {},
   "source": [
    "## 3. WRITE PCD FILE FOR EVERY .E57 FILE\n",
    "A .pcd file is created per e57 point cloud scan in the session\n",
    "already processed .pcd files are not overwritten"
   ]
  },
  {
   "cell_type": "code",
   "execution_count": 17,
   "metadata": {},
   "outputs": [
    {
     "name": "stdout",
     "output_type": "stream",
     "text": [
      "48 of 48 PointCloudNodes have pcd files!\n"
     ]
    }
   ],
   "source": [
    "#Read e57 files, create o3d point clouds and write them to \\\\PCD\\\\'pcdnode.name'.pcd\n",
    "b=0\n",
    "for idx,pcdnode in enumerate(pcdnodelist):\n",
    "    if pcdnode.get_pcd_path() is False: # Return FALSE if file does not exist  \n",
    "        pcdnode.get_e57_pointcloud() #this currently fails for photogrammetric clouds (they can also be created in Cloudcompare)\n",
    "        pcdnode.create_o3d_pointcloud()    \n",
    "        if pcdnode.write_o3d_pointcloud():\n",
    "            print('PointCloudNode '+str(idx)+' of '+str(len(pcdnodelist))+ ' : succesfully exported')\n",
    "    if pcdnode.get_pcd_path() is True: # Return TRUE and set file path if file already exists    \n",
    "        b=b+1\n",
    "print (str(b)+' of '+str(len(pcdnodelist))+ ' PointCloudNodes have pcd files!')"
   ]
  },
  {
   "cell_type": "code",
   "execution_count": 9,
   "metadata": {},
   "outputs": [
    {
     "name": "stdout",
     "output_type": "stream",
     "text": [
      "None\n"
     ]
    }
   ],
   "source": [
    "#test\n",
    "print(str(pcdnodelist[0].o3d_pointcloud))"
   ]
  },
  {
   "cell_type": "markdown",
   "metadata": {},
   "source": [
    "## 4. CREATE RDF GRAPHS FOR EACH POINTCLOUDNODES AND EXPORT THEM TO .TTL\n",
    "An RDF graph and .ttl file is created for all point clouds in the session\n",
    "(data itself is not stored in the graph, only metadata)"
   ]
  },
  {
   "cell_type": "code",
   "execution_count": 18,
   "metadata": {},
   "outputs": [
    {
     "name": "stdout",
     "output_type": "stream",
     "text": [
      "48 PointCloudNodes succesfully serialized in: D:\\Data\\2018-06 Werfopvolging Academiestraat Gent\\week 22\\PCD\\pcdGraph.ttl\n"
     ]
    }
   ],
   "source": [
    "#Create graphs and serialize them in \"pcdGraph.ttl\"\n",
    "importlib.reload(ld)\n",
    "importlib.reload(pc)\n",
    "importlib.reload(s2b)\n",
    "\n",
    "a=0\n",
    "g=Graph()\n",
    "for idx,pcdnode in enumerate(pcdnodelist):\n",
    "    pcdnode.session_path=session_path\n",
    "    try:\n",
    "        pcdnode.add_to_rdf_graph()\n",
    "        g=g+pcdnode.rdf_graph\n",
    "        pcdnode.rdf_graph_path=pcdnode.session_path+\"\\\\PCD\\\\pcdGraph.ttl\"\n",
    "    except:\n",
    "        print('PointCloudNode'+idx+' could not be serialized due to lack of metadata (did e57_xml import fail?).')\n",
    "        a=a+1\n",
    "        continue\n",
    "    \n",
    "g.serialize(destination=str(pcdnodelist[0].rdf_graph_path), format='ttl')\n",
    "print (str(len(pcdnodelist)-a)+' PointCloudNodes succesfully serialized in: '+str(pcdnode.rdf_graph_path))"
   ]
  },
  {
   "cell_type": "code",
   "execution_count": 19,
   "metadata": {},
   "outputs": [
    {
     "name": "stdout",
     "output_type": "stream",
     "text": [
      "@prefix e57: <http://libe57.org/> .\n",
      "@prefix gom: <https://w3id.org/gom#> .\n",
      "@prefix openlabel: <https://www.asam.net/index.php?eID=dumpFile&t=f&f=3876&token=413e8c85031ae64cc35cf42d0768627514868b2f> .\n",
      "@prefix rdfs: <http://www.w3.org/2000/01/rdf-schema#> .\n",
      "@prefix v4d3D: <https://w3id.org/v4d/core#> .\n",
      "\n",
      "<http://academiestraat_week_22_39> a \"https://w3id.org/v4d/3D#PointCloudNode\" ;\n",
      "    rdfs:label \"{406c8bfb-1d9d-4cae-ad2f-d6e6f7f97e3b}\" ;\n",
      "    e57:cartesianBounds \"[-4.835391998291016, 15.48379898071289, 1.5364439487457275, 63.616180419921875, 110.15341186523438, 52.724769592285156]\" ;\n",
      "    e57:recordCount \"12044232\" ;\n",
      "    gom:hasCoordinateSystem \"local\" ;\n",
      "    v4d3D:accuracy \"0.05\" ;\n",
      "    v4d3D:e57_path \"D:\\\\Data\\\\2018-06 Werfopvolging Academiestraat Gent\\\\week 22\\\\PCD\\\\week 22 lidar_CC.e57\" ;\n",
      "    v4d3D:e57_xml_path \"D:\\\\Data\\\\2018-06 Werfopvolging Academiestraat Gent\\\\week 22\\\\PCD\\\\week 22 lidar_CC.xml\" ;\n",
      "    v4d3D:features3d_path \"None\" ;\n",
      "    v4d3D:images2d_path \"None\" ;\n",
      "    v4d3D:pcd_path \"D:\\\\Data\\\\2018-06 Werfopvolging Academiestraat Gent\\\\week 22\\\\PCD\\\\academiestraat_week_22_39.pcd\" ;\n",
      "    v4d3D:session_path \"D:\\\\Data\\\\2018-06 Werfopvolging Academiestraat Gent\\\\week 22\" ;\n",
      "    openlabel:cartesian_transform \"None\" ;\n",
      "    openlabel:cuboid \"[22.704835736342, 59.34593966235, 4.856471089337, -0.004379844063595993, 0.04204077223688082, -1.029352605764203, 68.45157241821289, 94.66961288452148, 51.18832564353943]\" ;\n",
      "    openlabel:geospatial_transform \"None\" ;\n",
      "    openlabel:global_pose \"None\" ;\n",
      "    openlabel:pose \"[22.704835736342, 59.34593966235, 4.856471089337, 0.870280379800815, 0.008440764077007983, 0.01937360504651775, -0.4921031166971484]\" ;\n",
      "    openlabel:quaternion \"[0.870280379800815, 0.008440764077007983, 0.01937360504651775, -0.4921031166971484]\" ;\n",
      "    openlabel:timestamp \"Tue Dec  7 09:38:13 2021\" .\n",
      "\n",
      "\n"
     ]
    }
   ],
   "source": [
    "#test\n",
    "importlib.reload(ld)\n",
    "importlib.reload(pc)\n",
    "importlib.reload(s2b)\n",
    "\n",
    "pcdnodelist[0].add_to_rdf_graph()\n",
    "print(pcdnodelist[0].rdf_graph.serialize())"
   ]
  },
  {
   "cell_type": "markdown",
   "metadata": {},
   "source": [
    "## 5. GENERATE FEATURES FOR EACH POINTLCOUDNODE"
   ]
  },
  {
   "cell_type": "code",
   "execution_count": null,
   "metadata": {},
   "outputs": [],
   "source": []
  }
 ],
 "metadata": {
  "interpreter": {
   "hash": "460e66ca5f23cd63717e22731b88d79e724e92cbf76c04a2890b8d427aa9f0e6"
  },
  "kernelspec": {
   "display_name": "Python 3.8.12 64-bit ('environment': conda)",
   "language": "python",
   "name": "python3"
  },
  "language_info": {
   "codemirror_mode": {
    "name": "ipython",
    "version": 3
   },
   "file_extension": ".py",
   "mimetype": "text/x-python",
   "name": "python",
   "nbconvert_exporter": "python",
   "pygments_lexer": "ipython3",
   "version": "3.8.12"
  },
  "orig_nbformat": 4
 },
 "nbformat": 4,
 "nbformat_minor": 2
}
