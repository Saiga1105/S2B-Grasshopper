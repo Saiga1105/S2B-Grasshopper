{
 "cells": [
  {
   "cell_type": "code",
   "execution_count": 2,
   "metadata": {},
   "outputs": [],
   "source": [
    "\n",
    "import rdflib\n",
    "from rdflib import Graph, plugin\n",
    "from rdflib.serializer import Serializer #pip install rdflib-jsonld https://pypi.org/project/rdflib-jsonld/\n",
    "from rdflib import Graph\n",
    "from rdflib import URIRef, BNode, Literal\n",
    "from rdflib.namespace import CSVW, DC, DCAT, DCTERMS, DOAP, FOAF, ODRL2, ORG, OWL, \\\n",
    "                           PROF, PROV, RDF, RDFS, SDO, SH, SKOS, SOSA, SSN, TIME, \\\n",
    "                           VOID, XMLNS, XSD"
   ]
  },
  {
   "cell_type": "code",
   "execution_count": 4,
   "metadata": {},
   "outputs": [
    {
     "name": "stdout",
     "output_type": "stream",
     "text": [
      "{'rdf': 'http://www.w3.org/1999/02/22-rdf-syntax-ns', 'rdfs': 'http://www.w3.org/2000/01/rdf-schema', 'foaf': 'http://xmlns.com/foaf/0.1', 'owl': 'http://www.w3.org/2002/07/owl', 'xsd': 'http://www.w3.org/2001/XMLSchema', 'exif': 'http://www.w3.org/2003/12/exif/ns'}\n"
     ]
    }
   ],
   "source": [
    "context = {\"rdf\": 'http://www.w3.org/1999/02/22-rdf-syntax-ns', \n",
    "                    \"rdfs\": 'http://www.w3.org/2000/01/rdf-schema',\n",
    "                    \"foaf\": 'http://xmlns.com/foaf/0.1',\n",
    "                    \"owl\" : 'http://www.w3.org/2002/07/owl',\n",
    "                    \"xsd\" : 'http://www.w3.org/2001/XMLSchema',\n",
    "                    \"exif\" : \"http://www.w3.org/2003/12/exif/ns\"} \n",
    "print (context)"
   ]
  },
  {
   "cell_type": "code",
   "execution_count": null,
   "metadata": {},
   "outputs": [],
   "source": [
    "\n",
    "testrdf = \"\"\"\n",
    "... @prefix dcterms: <http://purl.org/dc/terms/> .\n",
    "... <http://example.org/about>\n",
    "...     dcterms:title \"Someone's Homepage\"@en .\n",
    "... \"\"\"\n",
    "\n",
    "g = Graph().parse(data=testrdf, format='n3')\n",
    "\n",
    "print(g.serialize(format='json-ld', indent=4))\n",
    "{\n",
    "    \"@id\": \"http://example.org/about\",\n",
    "    \"http://purl.org/dc/terms/title\": [\n",
    "        {\n",
    "            \"@language\": \"en\",\n",
    "            \"@value\": \"Someone's Homepage\"\n",
    "        }\n",
    "    ]\n",
    "}\n",
    "\n",
    "context = {\"@vocab\": \"http://purl.org/dc/terms/\", \"@language\": \"en\"}\n",
    "print(g.serialize(format='json-ld', context=context, indent=4))\n",
    "{\n",
    "    \"@context\": {\n",
    "        \"@language\": \"en\",\n",
    "        \"@vocab\": \"http://purl.org/dc/terms/\"\n",
    "    },\n",
    "    \"@id\": \"http://example.org/about\",\n",
    "    \"title\": \"Someone's Homepage\"\n",
    "}"
   ]
  }
 ],
 "metadata": {
  "interpreter": {
   "hash": "460e66ca5f23cd63717e22731b88d79e724e92cbf76c04a2890b8d427aa9f0e6"
  },
  "kernelspec": {
   "display_name": "Python 3.8.12 64-bit ('environment': conda)",
   "language": "python",
   "name": "python3"
  },
  "language_info": {
   "codemirror_mode": {
    "name": "ipython",
    "version": 3
   },
   "file_extension": ".py",
   "mimetype": "text/x-python",
   "name": "python",
   "nbconvert_exporter": "python",
   "pygments_lexer": "ipython3",
   "version": "3.8.12"
  },
  "orig_nbformat": 4
 },
 "nbformat": 4,
 "nbformat_minor": 2
}
