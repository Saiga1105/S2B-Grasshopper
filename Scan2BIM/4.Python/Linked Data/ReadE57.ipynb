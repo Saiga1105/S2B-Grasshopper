{
 "cells": [
  {
   "cell_type": "code",
   "execution_count": 1,
   "metadata": {},
   "outputs": [
    {
     "name": "stdout",
     "output_type": "stream",
     "text": [
      "Jupyter environment detected. Enabling Open3D WebVisualizer.\n",
      "[Open3D INFO] WebRTC GUI backend enabled.\n",
      "[Open3D INFO] WebRTCWindowSystem: HTTP handshake server disabled.\n"
     ]
    },
    {
     "ename": "ModuleNotFoundError",
     "evalue": "No module named 'Algorithms'",
     "output_type": "error",
     "traceback": [
      "\u001b[1;31m---------------------------------------------------------------------------\u001b[0m",
      "\u001b[1;31mModuleNotFoundError\u001b[0m                       Traceback (most recent call last)",
      "\u001b[1;32m~\\AppData\\Local\\Temp/ipykernel_21908/3162888939.py\u001b[0m in \u001b[0;36m<module>\u001b[1;34m\u001b[0m\n\u001b[0;32m      5\u001b[0m \u001b[1;32mimport\u001b[0m \u001b[0mopen3d\u001b[0m \u001b[1;32mas\u001b[0m \u001b[0mo3d\u001b[0m\u001b[1;33m\u001b[0m\u001b[1;33m\u001b[0m\u001b[0m\n\u001b[0;32m      6\u001b[0m \u001b[1;32mimport\u001b[0m \u001b[0mnumpy\u001b[0m \u001b[1;32mas\u001b[0m \u001b[0mnp\u001b[0m\u001b[1;33m\u001b[0m\u001b[1;33m\u001b[0m\u001b[0m\n\u001b[1;32m----> 7\u001b[1;33m \u001b[1;32mimport\u001b[0m \u001b[0mAlgorithms\u001b[0m\u001b[1;33m.\u001b[0m\u001b[0mscan2bim\u001b[0m\u001b[1;33m\u001b[0m\u001b[1;33m\u001b[0m\u001b[0m\n\u001b[0m\u001b[0;32m      8\u001b[0m \u001b[1;31m#import pye57\u001b[0m\u001b[1;33m\u001b[0m\u001b[1;33m\u001b[0m\u001b[1;33m\u001b[0m\u001b[0m\n",
      "\u001b[1;31mModuleNotFoundError\u001b[0m: No module named 'Algorithms'"
     ]
    }
   ],
   "source": [
    "import trainingdata\n",
    "import ifcopenshell.util\n",
    "import ifcopenshell.geom as geom\n",
    "from ifcopenshell.util.selector import Selector\n",
    "import open3d as o3d\n",
    "import numpy as np\n",
    "import Algorithms.scan2bim\n",
    "#import pye57"
   ]
  },
  {
   "cell_type": "code",
   "execution_count": null,
   "metadata": {},
   "outputs": [],
   "source": [
    "settings = geom.settings()\n",
    "settings.set(settings.USE_WORLD_COORDS, True)\n",
    "# ifc_file = ifcopenshell.open(r\"C:\\Repo\\SCAN2BIM-python\\Samples\\Test-Loesberg\\BIM.ifc\")\n",
    "# pcd = o3d.io.read_point_cloud(r\"C:\\Repo\\SCAN2BIM-python\\Samples\\Test-Loesberg\\pointcloud1.pcd\")\n",
    "\n",
    "ifc_file = ifcopenshell.open(r\"D:\\Data\\2018-06 Werfopvolging Academiestraat Gent\\As-design BIMs 2022\\linked project-B032110.00_STRU_CO_PRK_v2017_update 25042018_detached.ifc\")\n",
    "# obj works but only if reexported by CC\n",
    "obj_file = o3d.io.read_triangle_mesh(r\"D:\\Data\\2018-06 Werfopvolging Academiestraat Gent\\week 22\\MONITORING DATA\\BIM2.obj\")\n",
    "# ply doesn't have submeshes\n",
    "#ply_file = o3d.io.read_triangle_mesh(r\"D:\\Data\\2018-06 Werfopvolging Academiestraat Gent\\week 22\\MONITORING DATA\\BIM.ply\")\n",
    "#this currently fails\n",
    "#pcd1 = scan2bim.read_point_cloud_e57(r\"D:\\Data\\2018-06 Werfopvolging Academiestraat Gent\\week 22\\PCD\\week 22 lidar.e57\",-1)\n",
    "pcd2 = o3d.io.read_point_cloud(r\"D:\\Data\\2018-06 Werfopvolging Academiestraat Gent\\week 22\\PCD\\week22_photogrammetry_densecloud - Cloud.pcd\")\n"
   ]
  },
  {
   "cell_type": "code",
   "execution_count": 1,
   "metadata": {},
   "outputs": [
    {
     "ename": "NameError",
     "evalue": "name 'scan2bim' is not defined",
     "output_type": "error",
     "traceback": [
      "\u001b[1;31m---------------------------------------------------------------------------\u001b[0m",
      "\u001b[1;31mNameError\u001b[0m                                 Traceback (most recent call last)",
      "\u001b[1;32m~\\AppData\\Local\\Temp/ipykernel_20024/1096748709.py\u001b[0m in \u001b[0;36m<module>\u001b[1;34m\u001b[0m\n\u001b[0;32m      1\u001b[0m \u001b[0mfile_path\u001b[0m\u001b[1;33m=\u001b[0m\u001b[1;34mr'D:\\\\Data\\\\2018-06 Werfopvolging Academiestraat Gent\\\\week 22\\\\PCD\\\\week22 photogrammetry - Cloud.pcd'\u001b[0m\u001b[1;33m\u001b[0m\u001b[1;33m\u001b[0m\u001b[0m\n\u001b[0;32m      2\u001b[0m \u001b[0mindex\u001b[0m\u001b[1;33m=\u001b[0m\u001b[1;33m-\u001b[0m\u001b[1;36m1\u001b[0m\u001b[1;33m\u001b[0m\u001b[1;33m\u001b[0m\u001b[0m\n\u001b[1;32m----> 3\u001b[1;33m \u001b[0mpcd\u001b[0m\u001b[1;33m=\u001b[0m \u001b[0mscan2bim\u001b[0m\u001b[1;33m.\u001b[0m\u001b[0mread_point_cloud\u001b[0m\u001b[1;33m(\u001b[0m\u001b[0mfile_path\u001b[0m\u001b[1;33m)\u001b[0m\u001b[1;33m\u001b[0m\u001b[1;33m\u001b[0m\u001b[0m\n\u001b[0m\u001b[0;32m      4\u001b[0m \u001b[0mprint\u001b[0m \u001b[1;33m(\u001b[0m\u001b[0mpcd\u001b[0m\u001b[1;33m)\u001b[0m\u001b[1;33m\u001b[0m\u001b[1;33m\u001b[0m\u001b[0m\n\u001b[0;32m      5\u001b[0m \u001b[0mo3d\u001b[0m\u001b[1;33m.\u001b[0m\u001b[0mvisualization\u001b[0m\u001b[1;33m.\u001b[0m\u001b[0mdraw_geometries\u001b[0m\u001b[1;33m(\u001b[0m\u001b[1;33m[\u001b[0m\u001b[0mpcd\u001b[0m\u001b[1;33m]\u001b[0m\u001b[1;33m)\u001b[0m\u001b[1;33m\u001b[0m\u001b[1;33m\u001b[0m\u001b[0m\n",
      "\u001b[1;31mNameError\u001b[0m: name 'scan2bim' is not defined"
     ]
    }
   ],
   "source": [
    "file_path=r'D:\\\\Data\\\\2018-06 Werfopvolging Academiestraat Gent\\\\week 22\\\\PCD\\\\week22 photogrammetry - Cloud.pcd'\n",
    "index=-1\n",
    "pcd= scan2bim.read_point_cloud(file_path)\n",
    "print (pcd)\n",
    "o3d.visualization.draw_geometries([pcd])"
   ]
  },
  {
   "cell_type": "code",
   "execution_count": 1,
   "metadata": {},
   "outputs": [
    {
     "ename": "SyntaxError",
     "evalue": "invalid syntax (Temp/ipykernel_21704/3785961341.py, line 1)",
     "output_type": "error",
     "traceback": [
      "\u001b[1;36m  File \u001b[1;32m\"C:\\Users\\u0094523\\AppData\\Local\\Temp/ipykernel_21704/3785961341.py\"\u001b[1;36m, line \u001b[1;32m1\u001b[0m\n\u001b[1;33m    .\\e57xmldump \"D:\\\\Data\\\\2018-06 Werfopvolging Academiestraat Gent\\\\week 22\\\\PCD\\\\week 22 lidar.e57\"  \"week 22 lidar.xml\"\u001b[0m\n\u001b[1;37m    ^\u001b[0m\n\u001b[1;31mSyntaxError\u001b[0m\u001b[1;31m:\u001b[0m invalid syntax\n"
     ]
    }
   ],
   "source": [
    "#.\\e57xmldump \"D:\\\\Data\\\\2018-06 Werfopvolging Academiestraat Gent\\\\week 22\\\\PCD\\\\week 22 lidar_CC.e57\" > \"D:\\\\Data\\\\2018-06 Werfopvolging Academiestraat Gent\\\\week 22\\\\PCD\\\\week 22 lidar_CC.xml\""
   ]
  },
  {
   "cell_type": "code",
   "execution_count": 6,
   "metadata": {},
   "outputs": [],
   "source": [
    "o3d.visualization.draw_geometries([obj_file])"
   ]
  },
  {
   "cell_type": "code",
   "execution_count": 7,
   "metadata": {},
   "outputs": [
    {
     "ename": "TypeError",
     "evalue": "'open3d.cpu.pybind.geometry.TriangleMesh' object is not iterable",
     "output_type": "error",
     "traceback": [
      "\u001b[1;31m---------------------------------------------------------------------------\u001b[0m",
      "\u001b[1;31mTypeError\u001b[0m                                 Traceback (most recent call last)",
      "\u001b[1;32m~\\AppData\\Local\\Temp/ipykernel_10904/124556451.py\u001b[0m in \u001b[0;36m<module>\u001b[1;34m\u001b[0m\n\u001b[1;32m----> 1\u001b[1;33m \u001b[0mply_pcd\u001b[0m\u001b[1;33m=\u001b[0m\u001b[0mscan2bim\u001b[0m\u001b[1;33m.\u001b[0m\u001b[0mgenerate_pcd_from_mesh\u001b[0m\u001b[1;33m(\u001b[0m\u001b[0mobj_file\u001b[0m\u001b[1;33m,\u001b[0m\u001b[1;36m0.1\u001b[0m\u001b[1;33m)\u001b[0m\u001b[1;33m\u001b[0m\u001b[1;33m\u001b[0m\u001b[0m\n\u001b[0m",
      "\u001b[1;32md:\\Scan-to-BIM repository\\Scan-to-BIM-Grasshopper\\Scan2BIM\\4.Python\\Linked Data\\scan2bim.py\u001b[0m in \u001b[0;36mgenerate_pcd_from_mesh\u001b[1;34m(mesh, voxel_size)\u001b[0m\n\u001b[0;32m    126\u001b[0m     \u001b[1;31m#code\u001b[0m\u001b[1;33m\u001b[0m\u001b[1;33m\u001b[0m\u001b[1;33m\u001b[0m\u001b[0m\n\u001b[0;32m    127\u001b[0m     \u001b[0mpointcloud\u001b[0m \u001b[1;33m=\u001b[0m \u001b[0mo3d\u001b[0m\u001b[1;33m.\u001b[0m\u001b[0mgeometry\u001b[0m\u001b[1;33m.\u001b[0m\u001b[0mPointCloud\u001b[0m\u001b[1;33m(\u001b[0m\u001b[1;33m)\u001b[0m\u001b[1;33m\u001b[0m\u001b[1;33m\u001b[0m\u001b[0m\n\u001b[1;32m--> 128\u001b[1;33m     \u001b[1;32mfor\u001b[0m \u001b[0msubmesh\u001b[0m \u001b[1;32min\u001b[0m \u001b[0mmesh\u001b[0m\u001b[1;33m:\u001b[0m\u001b[1;33m\u001b[0m\u001b[1;33m\u001b[0m\u001b[0m\n\u001b[0m\u001b[0;32m    129\u001b[0m         \u001b[0mmesh_points\u001b[0m \u001b[1;33m=\u001b[0m \u001b[0mround\u001b[0m\u001b[1;33m(\u001b[0m\u001b[0msubmesh\u001b[0m\u001b[1;33m.\u001b[0m\u001b[0mget_surface_area\u001b[0m\u001b[1;33m(\u001b[0m\u001b[1;33m)\u001b[0m \u001b[1;33m*\u001b[0m \u001b[1;36m1000\u001b[0m\u001b[1;33m)\u001b[0m\u001b[1;33m\u001b[0m\u001b[1;33m\u001b[0m\u001b[0m\n\u001b[0;32m    130\u001b[0m         \u001b[0msubmeshpcd\u001b[0m \u001b[1;33m=\u001b[0m \u001b[0msubmesh\u001b[0m\u001b[1;33m.\u001b[0m\u001b[0msample_points_uniformly\u001b[0m\u001b[1;33m(\u001b[0m\u001b[0mnumber_of_points\u001b[0m \u001b[1;33m=\u001b[0m \u001b[0mmesh_points\u001b[0m\u001b[1;33m,\u001b[0m \u001b[0muse_triangle_normal\u001b[0m\u001b[1;33m=\u001b[0m\u001b[1;32mTrue\u001b[0m\u001b[1;33m)\u001b[0m\u001b[1;33m\u001b[0m\u001b[1;33m\u001b[0m\u001b[0m\n",
      "\u001b[1;31mTypeError\u001b[0m: 'open3d.cpu.pybind.geometry.TriangleMesh' object is not iterable"
     ]
    }
   ],
   "source": [
    "ply_pcd=scan2bim.generate_pcd_from_mesh(obj_file,0.1)"
   ]
  }
 ],
 "metadata": {
  "interpreter": {
   "hash": "8abcbfd618f1e6ea2c6a2b61441e8b9ff3dcc14d1fb515b1ab27d8859c096e95"
  },
  "kernelspec": {
   "display_name": "Python 3.8.8 64-bit ('trainingdatacreation': conda)",
   "language": "python",
   "name": "python3"
  },
  "language_info": {
   "codemirror_mode": {
    "name": "ipython",
    "version": 3
   },
   "file_extension": ".py",
   "mimetype": "text/x-python",
   "name": "python",
   "nbconvert_exporter": "python",
   "pygments_lexer": "ipython3",
   "version": "3.8.12"
  },
  "orig_nbformat": 4
 },
 "nbformat": 4,
 "nbformat_minor": 2
}
