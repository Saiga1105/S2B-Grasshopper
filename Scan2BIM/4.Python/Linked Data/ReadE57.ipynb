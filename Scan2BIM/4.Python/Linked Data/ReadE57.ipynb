{
 "cells": [
  {
   "cell_type": "code",
   "execution_count": 8,
   "metadata": {},
   "outputs": [],
   "source": [
    "import trainingdata\n",
    "import ifcopenshell.util\n",
    "import ifcopenshell.geom as geom\n",
    "from ifcopenshell.util.selector import Selector\n",
    "import open3d as o3d\n",
    "import numpy as np\n",
    "import scan2bim\n",
    "#import pye57"
   ]
  },
  {
   "cell_type": "code",
   "execution_count": 5,
   "metadata": {},
   "outputs": [
    {
     "name": "stdout",
     "output_type": "stream",
     "text": [
      "[Open3D INFO] Skipping non-triangle primitive geometry of type: 12\n",
      "[Open3D INFO] Skipping non-triangle primitive geometry of type: 12\n",
      "[Open3D INFO] Skipping non-triangle primitive geometry of type: 12\n",
      "[Open3D INFO] Skipping non-triangle primitive geometry of type: 12\n",
      "[Open3D INFO] Skipping non-triangle primitive geometry of type: 12\n",
      "[Open3D INFO] Skipping non-triangle primitive geometry of type: 12\n",
      "[Open3D INFO] Skipping non-triangle primitive geometry of type: 12\n",
      "[Open3D INFO] Skipping non-triangle primitive geometry of type: 12\n",
      "[Open3D INFO] Skipping non-triangle primitive geometry of type: 12\n",
      "[Open3D INFO] Skipping non-triangle primitive geometry of type: 12\n",
      "[Open3D INFO] Skipping non-triangle primitive geometry of type: 12\n",
      "[Open3D INFO] Skipping non-triangle primitive geometry of type: 12\n",
      "[Open3D INFO] Skipping non-triangle primitive geometry of type: 12\n",
      "[Open3D INFO] Skipping non-triangle primitive geometry of type: 12\n",
      "[Open3D INFO] Skipping non-triangle primitive geometry of type: 12\n",
      "[Open3D INFO] Skipping non-triangle primitive geometry of type: 12\n",
      "[Open3D INFO] Skipping non-triangle primitive geometry of type: 8\n",
      "[Open3D INFO] Skipping non-triangle primitive geometry of type: 12\n",
      "[Open3D INFO] Skipping non-triangle primitive geometry of type: 12\n",
      "[Open3D INFO] Skipping non-triangle primitive geometry of type: 12\n",
      "[Open3D INFO] Skipping non-triangle primitive geometry of type: 12\n"
     ]
    }
   ],
   "source": [
    "settings = geom.settings()\n",
    "settings.set(settings.USE_WORLD_COORDS, True)\n",
    "# ifc_file = ifcopenshell.open(r\"C:\\Repo\\SCAN2BIM-python\\Samples\\Test-Loesberg\\BIM.ifc\")\n",
    "# pcd = o3d.io.read_point_cloud(r\"C:\\Repo\\SCAN2BIM-python\\Samples\\Test-Loesberg\\pointcloud1.pcd\")\n",
    "\n",
    "ifc_file = ifcopenshell.open(r\"D:\\Data\\2018-06 Werfopvolging Academiestraat Gent\\As-design BIMs 2022\\linked project-B032110.00_STRU_CO_PRK_v2017_update 25042018_detached.ifc\")\n",
    "obj_file = o3d.io.read_triangle_mesh(r\"D:\\Data\\2018-06 Werfopvolging Academiestraat Gent\\week 22\\MONITORING DATA\\BIM.obj\")\n",
    "ply_file = o3d.io.read_triangle_mesh(r\"D:\\Data\\2018-06 Werfopvolging Academiestraat Gent\\week 22\\MONITORING DATA\\BIM.ply\")\n",
    "#this currently fails\n",
    "#pcd1 = scan2bim.read_point_cloud_e57(r\"D:\\Data\\2018-06 Werfopvolging Academiestraat Gent\\week 22\\PCD\\week 22 lidar.e57\",-1)\n",
    "pcd2 = o3d.io.read_point_cloud(r\"D:\\Data\\2018-06 Werfopvolging Academiestraat Gent\\week 22\\PCD\\week22_photogrammetry_densecloud - Cloud.pcd\")\n"
   ]
  },
  {
   "cell_type": "code",
   "execution_count": 32,
   "metadata": {},
   "outputs": [
    {
     "name": "stdout",
     "output_type": "stream",
     "text": [
      "PointCloud with 242750 points.\n"
     ]
    }
   ],
   "source": [
    "file_path=r\"D:\\Data\\2018-06 Werfopvolging Academiestraat Gent\\week 22\\PCD\\week22 photogrammetry - Cloud.pcd\"\n",
    "index=-1\n",
    "pcd= scan2bim.read_point_cloud(file_path)\n",
    "print (pcd)\n",
    "o3d.visualization.draw_geometries([pcd])"
   ]
  },
  {
   "cell_type": "code",
   "execution_count": 6,
   "metadata": {},
   "outputs": [],
   "source": [
    "o3d.visualization.draw_geometries([ply_file])"
   ]
  },
  {
   "cell_type": "code",
   "execution_count": 10,
   "metadata": {},
   "outputs": [
    {
     "ename": "NameError",
     "evalue": "name 'generate_pcd_from_mesh' is not defined",
     "output_type": "error",
     "traceback": [
      "\u001b[1;31m---------------------------------------------------------------------------\u001b[0m",
      "\u001b[1;31mNameError\u001b[0m                                 Traceback (most recent call last)",
      "\u001b[1;32m~\\AppData\\Local\\Temp/ipykernel_22460/1983109393.py\u001b[0m in \u001b[0;36m<module>\u001b[1;34m\u001b[0m\n\u001b[0;32m      1\u001b[0m \u001b[1;32mimport\u001b[0m \u001b[0mscan2bim\u001b[0m\u001b[1;33m\u001b[0m\u001b[1;33m\u001b[0m\u001b[0m\n\u001b[1;32m----> 2\u001b[1;33m \u001b[0mply_pcd\u001b[0m\u001b[1;33m=\u001b[0m\u001b[0mgenerate_pcd_from_mesh\u001b[0m\u001b[1;33m(\u001b[0m\u001b[0mply_file\u001b[0m\u001b[1;33m,\u001b[0m\u001b[1;36m0.1\u001b[0m\u001b[1;33m)\u001b[0m\u001b[1;33m\u001b[0m\u001b[1;33m\u001b[0m\u001b[0m\n\u001b[0m",
      "\u001b[1;31mNameError\u001b[0m: name 'generate_pcd_from_mesh' is not defined"
     ]
    }
   ],
   "source": [
    "import scan2bim\n",
    "ply_pcd=generate_pcd_from_mesh(ply_file,0.1)"
   ]
  }
 ],
 "metadata": {
  "interpreter": {
   "hash": "8abcbfd618f1e6ea2c6a2b61441e8b9ff3dcc14d1fb515b1ab27d8859c096e95"
  },
  "kernelspec": {
   "display_name": "Python 3.8.8 64-bit ('trainingdatacreation': conda)",
   "language": "python",
   "name": "python3"
  },
  "language_info": {
   "codemirror_mode": {
    "name": "ipython",
    "version": 3
   },
   "file_extension": ".py",
   "mimetype": "text/x-python",
   "name": "python",
   "nbconvert_exporter": "python",
   "pygments_lexer": "ipython3",
   "version": "3.8.12"
  },
  "orig_nbformat": 4
 },
 "nbformat": 4,
 "nbformat_minor": 2
}
