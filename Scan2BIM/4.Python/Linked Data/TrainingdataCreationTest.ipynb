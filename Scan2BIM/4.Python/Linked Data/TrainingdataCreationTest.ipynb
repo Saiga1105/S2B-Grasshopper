{
 "cells": [
  {
   "cell_type": "code",
   "execution_count": 2,
   "metadata": {},
   "outputs": [
    {
     "ename": "ModuleNotFoundError",
     "evalue": "No module named 'Algorithms'",
     "output_type": "error",
     "traceback": [
      "\u001b[1;31m---------------------------------------------------------------------------\u001b[0m",
      "\u001b[1;31mModuleNotFoundError\u001b[0m                       Traceback (most recent call last)",
      "\u001b[1;32m~\\AppData\\Local\\Temp/ipykernel_40532/3262277053.py\u001b[0m in \u001b[0;36m<module>\u001b[1;34m\u001b[0m\n\u001b[0;32m      7\u001b[0m \u001b[1;33m\u001b[0m\u001b[0m\n\u001b[0;32m      8\u001b[0m \u001b[1;31m#IMPORT MODULES\u001b[0m\u001b[1;33m\u001b[0m\u001b[1;33m\u001b[0m\u001b[1;33m\u001b[0m\u001b[0m\n\u001b[1;32m----> 9\u001b[1;33m \u001b[1;32mimport\u001b[0m \u001b[0mAlgorithms\u001b[0m\u001b[1;33m.\u001b[0m\u001b[0mscan2bim\u001b[0m \u001b[1;32mas\u001b[0m \u001b[0ms2b\u001b[0m\u001b[1;33m\u001b[0m\u001b[1;33m\u001b[0m\u001b[0m\n\u001b[0m\u001b[0;32m     10\u001b[0m \u001b[1;32mimport\u001b[0m \u001b[0mAlgorithms\u001b[0m\u001b[1;33m.\u001b[0m\u001b[0mtrainingdata\u001b[0m \u001b[1;32mas\u001b[0m \u001b[0mtd\u001b[0m\u001b[1;33m\u001b[0m\u001b[1;33m\u001b[0m\u001b[0m\n",
      "\u001b[1;31mModuleNotFoundError\u001b[0m: No module named 'Algorithms'"
     ]
    }
   ],
   "source": [
    "import ifcopenshell.util\n",
    "import ifcopenshell.geom as geom\n",
    "from ifcopenshell.util.selector import Selector\n",
    "import open3d as o3d\n",
    "import numpy as np\n",
    "#import pye57\n",
    "\n",
    "#IMPORT MODULES\n",
    "import Algorithms.scan2bim as s2b\n",
    "import Algorithms.trainingdata as td\n"
   ]
  },
  {
   "cell_type": "code",
   "execution_count": 2,
   "metadata": {},
   "outputs": [],
   "source": [
    "settings = geom.settings()\n",
    "settings.set(settings.USE_WORLD_COORDS, True)\n",
    "# ifc_file = ifcopenshell.open(r\"C:\\Repo\\SCAN2BIM-python\\Samples\\Test-Loesberg\\BIM.ifc\")\n",
    "# pcd = o3d.io.read_point_cloud(r\"C:\\Repo\\SCAN2BIM-python\\Samples\\Test-Loesberg\\pointcloud1.pcd\")\n",
    "# simple ifc\n",
    "ifc_file = ifcopenshell.open(r\"K:\\Projects\\2025-02 Project BAEKELAND MEETHET\\7.Recordings\\2021-02-NAV-Technologycampus_Ghent\\RESEARCH - SemSeg-Trainingsdata\\Training\\Labo-Beton\\INPUT\\BIM\\IFC\\TC-Ghent_Lab-Beton_v0.ifc\")\n",
    "#ifc_file = ifcopenshell.open(r\"D:\\Data\\18007_UV_3D_OCMW Sint Niklaas.ifc\")\n",
    "# ifc_file = ifcopenshell.open(r\"D:\\Data\\2018-06 Werfopvolging Academiestraat Gent\\As-design BIMs 2022\\linked project-B032110.00_STRU_CO_PRK_v2017_update 25042018_detached.ifc\")\n",
    "pcd = o3d.io.read_point_cloud(r\"D:\\Data\\2018-06 Werfopvolging Academiestraat Gent\\week 22\\PCD\\week22 photogrammetry - Cloud.pcd\")\n"
   ]
  },
  {
   "cell_type": "code",
   "execution_count": 17,
   "metadata": {},
   "outputs": [
    {
     "name": "stdout",
     "output_type": "stream",
     "text": [
      "#409=IfcWallStandardCase('3DuSkPjVX8LQw9AOx7MIsl',#41,'Basic Wall:C3A_22_WA_LB_vol snelbouw 10-100-10:1311922',$,'Basic Wall:C3A_22_WA_LB_vol snelbouw 10-100-10',#375,#407,'1311922')\n",
      "#525=IfcWallStandardCase('3DuSkPjVX8LQw9AOx7MItZ',#41,'Basic Wall:C3A_22_WA_LB_vol snelbouw 10-100-10:1311998',$,'Basic Wall:C3A_22_WA_LB_vol snelbouw 10-100-10',#505,#523,'1311998')\n",
      "#593=IfcWallStandardCase('3DuSkPjVX8LQw9AOx7MInQ',#41,'Basic Wall:C3A_22_WA_LB_vol snelbouw 10-140-10:1312071',$,'Basic Wall:C3A_22_WA_LB_vol snelbouw 10-140-10',#564,#591,'1312071')\n",
      "#709=IfcWallStandardCase('3DuSkPjVX8LQw9AOx7MIod',#41,'Basic Wall:C3A_22_WA_LB_vol snelbouw 10-480-10:1312186',$,'Basic Wall:C3A_22_WA_LB_vol snelbouw 10-480-10',#676,#707,'1312186')\n",
      "#879=IfcWall('3DuSkPjVX8LQw9AOx7MIyk',#41,'Basic Wall:C3A_22_WA_LB_vol snelbouw 10-350-10:1312307',$,'Basic Wall:C3A_22_WA_LB_vol snelbouw 10-350-10',#792,#877,'1312307')\n",
      "#976=IfcWallStandardCase('3DuSkPjVX8LQw9AOx7MIzy',#41,'Basic Wall:C3A_22_WA_LB_vol snelbouw 10-190-10:1312353',$,'Basic Wall:C3A_22_WA_LB_vol snelbouw 10-190-10',#949,#974,'1312353')\n",
      "#1080=IfcWallStandardCase('3DuSkPjVX8LQw9AOx7MIuL',#41,'Basic Wall:C3A_22_WA_LB_vol snelbouw 10-280-10:1312520',$,'Basic Wall:C3A_22_WA_LB_vol snelbouw 10-280-10',#1045,#1078,'1312520')\n",
      "#1270=IfcWall('3DuSkPjVX8LQw9AOx7MIvo',#41,'Basic Wall:C3A_22_WA_LB_vol snelbouw 10-190-10:1312623',$,'Basic Wall:C3A_22_WA_LB_vol snelbouw 10-190-10',#1149,#1268,'1312623')\n",
      "#1435=IfcWall('3DuSkPjVX8LQw9AOx7MIx_',#41,'Basic Wall:C3A_22_WA_LB_vol snelbouw 10-480-10:1312739',$,'Basic Wall:C3A_22_WA_LB_vol snelbouw 10-480-10',#1308,#1433,'1312739')\n",
      "#1554=IfcWallStandardCase('3DuSkPjVX8LQw9AOx7MI5P',#41,'Basic Wall:C3A_22_WA_LB_vol snelbouw 10-300-10:1312836',$,'Basic Wall:C3A_22_WA_LB_vol snelbouw 10-300-10',#1473,#1552,'1312836')\n",
      "#1643=IfcWallStandardCase('3DuSkPjVX8LQw9AOx7MIDF',#41,'Basic Wall:C3A_22_WA_LB_vol snelbouw 10-90-10:1313362',$,'Basic Wall:C3A_22_WA_LB_vol snelbouw 10-90-10',#1623,#1641,'1313362')\n",
      "#1732=IfcWallStandardCase('3DuSkPjVX8LQw9AOx7MIDl',#41,'Basic Wall:C3A_22_WA_LB_vol snelbouw 10-90-10:1313394',$,'Basic Wall:C3A_22_WA_LB_vol snelbouw 10-90-10',#1712,#1730,'1313394')\n",
      "#1798=IfcWallStandardCase('3DuSkPjVX8LQw9AOx7MIE6',#41,'Basic Wall:C3A_22_WA_LB_vol snelbouw 10-90-10:1313435',$,'Basic Wall:C3A_22_WA_LB_vol snelbouw 10-90-10',#1771,#1796,'1313435')\n",
      "#1866=IfcWallStandardCase('3DuSkPjVX8LQw9AOx7MIEX',#41,'Basic Wall:C3A_22_WA_LB_vol snelbouw 10-90-10:1313468',$,'Basic Wall:C3A_22_WA_LB_vol snelbouw 10-90-10',#1837,#1864,'1313468')\n",
      "#1932=IfcWallStandardCase('3DuSkPjVX8LQw9AOx7MIFm',#41,'Basic Wall:C3A_22_WA_LB_vol snelbouw 10-90-10:1313517',$,'Basic Wall:C3A_22_WA_LB_vol snelbouw 10-90-10',#1905,#1930,'1313517')\n",
      "#2000=IfcWallStandardCase('3DuSkPjVX8LQw9AOx7MI89',#41,'Basic Wall:C3A_22_WA_LB_vol snelbouw 10-90-10:1313556',$,'Basic Wall:C3A_22_WA_LB_vol snelbouw 10-90-10',#1971,#1998,'1313556')\n",
      "#2068=IfcWallStandardCase('3DuSkPjVX8LQw9AOx7MI8c',#41,'Basic Wall:C3A_22_WA_LB_vol snelbouw 10-90-10:1313595',$,'Basic Wall:C3A_22_WA_LB_vol snelbouw 10-90-10',#2039,#2066,'1313595')\n",
      "#2127=IfcWallStandardCase('3DuSkPjVX8LQw9AOx7MI9B',#41,'Basic Wall:C3A_22_WA_LB_vol snelbouw 10-90-10:1313622',$,'Basic Wall:C3A_22_WA_LB_vol snelbouw 10-90-10',#2107,#2125,'1313622')\n",
      "#2408=IfcWallStandardCase('1pmUC6RFrAl8XD0EradbE0',#41,'Basic Wall:C3A_22_WA_LB_vol snelbouw 10-90-10:1322554',$,'Basic Wall:C3A_22_WA_LB_vol snelbouw 10-90-10',#2381,#2406,'1322554')\n",
      "#2788=IfcWallStandardCase('2xHhec8fj9gwjXOWuyWIBB',#41,'Basic Wall:C3A_22_WA_LB_vol snelbouw 10-100-10:1326218',$,'Basic Wall:C3A_22_WA_LB_vol snelbouw 10-100-10',#2768,#2786,'1326218')\n"
     ]
    }
   ],
   "source": [
    "IfcClass= \"IfcWall\"\n",
    "test_legnth= ifc_file.by_type(IfcClass)\n",
    "test=[None] * len(ifc_file.by_type(IfcClass))\n",
    "for ifc_entity in ifc_file.by_type(IfcClass):\n",
    "    # test[ifc_entity]=1\n",
    "    print (ifc_entity)"
   ]
  },
  {
   "cell_type": "code",
   "execution_count": 3,
   "metadata": {},
   "outputs": [
    {
     "ename": "RuntimeError",
     "evalue": "Unable to cast Python instance to C++ type (compile in debug mode for details)",
     "output_type": "error",
     "traceback": [
      "\u001b[1;31m---------------------------------------------------------------------------\u001b[0m",
      "\u001b[1;31mRuntimeError\u001b[0m                              Traceback (most recent call last)",
      "\u001b[1;32m~\\AppData\\Local\\Temp/ipykernel_25280/19756287.py\u001b[0m in \u001b[0;36m<module>\u001b[1;34m\u001b[0m\n\u001b[1;32m----> 1\u001b[1;33m \u001b[0mmeshes\u001b[0m \u001b[1;33m=\u001b[0m \u001b[0ms2b\u001b[0m\u001b[1;33m.\u001b[0m\u001b[0mget_mesh\u001b[0m\u001b[1;33m(\u001b[0m\u001b[0mifc_file\u001b[0m\u001b[1;33m,\u001b[0m \u001b[1;33m[\u001b[0m\u001b[1;34m\"IfcWallStandardCase\"\u001b[0m\u001b[1;33m]\u001b[0m \u001b[1;33m)\u001b[0m\u001b[1;33m\u001b[0m\u001b[1;33m\u001b[0m\u001b[0m\n\u001b[0m\u001b[0;32m      2\u001b[0m \u001b[0mprint\u001b[0m\u001b[1;33m(\u001b[0m\u001b[1;34m\"succes\"\u001b[0m\u001b[1;33m)\u001b[0m\u001b[1;33m\u001b[0m\u001b[1;33m\u001b[0m\u001b[0m\n",
      "\u001b[1;32md:\\Scan-to-BIM repository\\Scan-to-BIM-Grasshopper\\Scan2BIM\\4.Python\\Linked Data\\scan2bim.py\u001b[0m in \u001b[0;36mget_mesh\u001b[1;34m(ifc_file, IfcClasses)\u001b[0m\n\u001b[0;32m    106\u001b[0m     \u001b[0mmeshes\u001b[0m \u001b[1;33m=\u001b[0m \u001b[1;33m[\u001b[0m\u001b[1;33m]\u001b[0m\u001b[1;33m\u001b[0m\u001b[1;33m\u001b[0m\u001b[0m\n\u001b[0;32m    107\u001b[0m     \u001b[1;32mfor\u001b[0m \u001b[0mi\u001b[0m\u001b[1;33m,\u001b[0m \u001b[0mgeometry\u001b[0m \u001b[1;32min\u001b[0m \u001b[0mmeshinfo\u001b[0m\u001b[1;33m:\u001b[0m\u001b[1;33m\u001b[0m\u001b[1;33m\u001b[0m\u001b[0m\n\u001b[1;32m--> 108\u001b[1;33m         \u001b[0mvertices\u001b[0m \u001b[1;33m=\u001b[0m \u001b[0mo3d\u001b[0m\u001b[1;33m.\u001b[0m\u001b[0mutility\u001b[0m\u001b[1;33m.\u001b[0m\u001b[0mVector3dVector\u001b[0m\u001b[1;33m(\u001b[0m\u001b[0mnp\u001b[0m\u001b[1;33m.\u001b[0m\u001b[0masarray\u001b[0m\u001b[1;33m(\u001b[0m\u001b[0mgeometry\u001b[0m\u001b[1;33m[\u001b[0m\u001b[1;36m0\u001b[0m\u001b[1;33m]\u001b[0m\u001b[1;33m)\u001b[0m\u001b[1;33m)\u001b[0m\u001b[1;33m\u001b[0m\u001b[1;33m\u001b[0m\u001b[0m\n\u001b[0m\u001b[0;32m    109\u001b[0m         \u001b[0mtriangles\u001b[0m \u001b[1;33m=\u001b[0m \u001b[0mo3d\u001b[0m\u001b[1;33m.\u001b[0m\u001b[0mutility\u001b[0m\u001b[1;33m.\u001b[0m\u001b[0mVector3iVector\u001b[0m\u001b[1;33m(\u001b[0m\u001b[0mnp\u001b[0m\u001b[1;33m.\u001b[0m\u001b[0masarray\u001b[0m\u001b[1;33m(\u001b[0m\u001b[0mgeometry\u001b[0m\u001b[1;33m[\u001b[0m\u001b[1;36m1\u001b[0m\u001b[1;33m]\u001b[0m\u001b[1;33m)\u001b[0m\u001b[1;33m)\u001b[0m\u001b[1;33m\u001b[0m\u001b[1;33m\u001b[0m\u001b[0m\n\u001b[0;32m    110\u001b[0m         \u001b[0mmesh\u001b[0m \u001b[1;33m=\u001b[0m \u001b[0mo3d\u001b[0m\u001b[1;33m.\u001b[0m\u001b[0mgeometry\u001b[0m\u001b[1;33m.\u001b[0m\u001b[0mTriangleMesh\u001b[0m\u001b[1;33m(\u001b[0m\u001b[0mvertices\u001b[0m\u001b[1;33m,\u001b[0m\u001b[0mtriangles\u001b[0m\u001b[1;33m)\u001b[0m\u001b[1;33m\u001b[0m\u001b[1;33m\u001b[0m\u001b[0m\n",
      "\u001b[1;31mRuntimeError\u001b[0m: Unable to cast Python instance to C++ type (compile in debug mode for details)"
     ]
    }
   ],
   "source": [
    "meshes = s2b.get_mesh(ifc_file, [\"IfcWallStandardCase\"] )\n",
    "print(\"succes\")\n"
   ]
  },
  {
   "cell_type": "code",
   "execution_count": 4,
   "metadata": {},
   "outputs": [
    {
     "ename": "NameError",
     "evalue": "name 'meshes' is not defined",
     "output_type": "error",
     "traceback": [
      "\u001b[1;31m---------------------------------------------------------------------------\u001b[0m",
      "\u001b[1;31mNameError\u001b[0m                                 Traceback (most recent call last)",
      "\u001b[1;32m~\\AppData\\Local\\Temp/ipykernel_25280/1947971957.py\u001b[0m in \u001b[0;36m<module>\u001b[1;34m\u001b[0m\n\u001b[1;32m----> 1\u001b[1;33m \u001b[1;32mfor\u001b[0m \u001b[0mi\u001b[0m\u001b[1;33m,\u001b[0m\u001b[0mmesh\u001b[0m \u001b[1;32min\u001b[0m \u001b[0mmeshes\u001b[0m\u001b[1;33m:\u001b[0m\u001b[1;33m\u001b[0m\u001b[1;33m\u001b[0m\u001b[0m\n\u001b[0m\u001b[0;32m      2\u001b[0m     \u001b[0mmesh_points\u001b[0m \u001b[1;33m=\u001b[0m \u001b[0mround\u001b[0m\u001b[1;33m(\u001b[0m\u001b[0mmesh\u001b[0m\u001b[1;33m.\u001b[0m\u001b[0mget_surface_area\u001b[0m\u001b[1;33m(\u001b[0m\u001b[1;33m)\u001b[0m \u001b[1;33m/\u001b[0m \u001b[1;33m(\u001b[0m\u001b[0mvoxel_size\u001b[0m\u001b[1;33m*\u001b[0m\u001b[0mvoxel_size\u001b[0m\u001b[1;33m)\u001b[0m\u001b[1;33m)\u001b[0m\u001b[1;33m\u001b[0m\u001b[1;33m\u001b[0m\u001b[0m\n\u001b[0;32m      3\u001b[0m     \u001b[0mpcd\u001b[0m\u001b[1;33m[\u001b[0m\u001b[0mi\u001b[0m\u001b[1;33m]\u001b[0m \u001b[1;33m=\u001b[0m \u001b[0mmesh\u001b[0m\u001b[1;33m.\u001b[0m\u001b[0msample_points_uniformly\u001b[0m\u001b[1;33m(\u001b[0m\u001b[0mnumber_of_points\u001b[0m \u001b[1;33m=\u001b[0m \u001b[0mmesh_points\u001b[0m\u001b[1;33m,\u001b[0m \u001b[0muse_triangle_normal\u001b[0m\u001b[1;33m=\u001b[0m\u001b[1;32mTrue\u001b[0m\u001b[1;33m)\u001b[0m\u001b[1;33m\u001b[0m\u001b[1;33m\u001b[0m\u001b[0m\n",
      "\u001b[1;31mNameError\u001b[0m: name 'meshes' is not defined"
     ]
    }
   ],
   "source": [
    "voxel_size=0.1\n",
    "for i,mesh in meshes:\n",
    "    mesh_points = round(mesh.get_surface_area() / (voxel_size*voxel_size))\n",
    "    pcd[i] = mesh.sample_points_uniformly(number_of_points = mesh_points, use_triangle_normal=True)\n"
   ]
  },
  {
   "cell_type": "code",
   "execution_count": 9,
   "metadata": {},
   "outputs": [
    {
     "name": "stdout",
     "output_type": "stream",
     "text": [
      "[Open3D WARNING] [ViewControl] SetViewPoint() failed because window height and width are not set.\n"
     ]
    }
   ],
   "source": [
    "o3d.visualization.draw_geometries([meshes])\n"
   ]
  },
  {
   "cell_type": "code",
   "execution_count": null,
   "metadata": {},
   "outputs": [],
   "source": [
    "o3d.io.write_triangle_mesh(\"test_wall.obj\",\n",
    "                            meshes,\n",
    "                            write_triangle_uvs=True)\n"
   ]
  },
  {
   "cell_type": "code",
   "execution_count": null,
   "metadata": {},
   "outputs": [],
   "source": [
    "voxel_size = 0.01\n",
    "pcd_ref=s2b.generate_pcd_from_mesh(mesh,voxel_size)"
   ]
  },
  {
   "cell_type": "code",
   "execution_count": null,
   "metadata": {},
   "outputs": [],
   "source": [
    "refpcd_wall=None #placeholder\n",
    "refpcd_slab=None #placeholder\n",
    "label_id = [(\"Wall\",\"2\"), (\"Floor\",\"1\")]\n",
    "ref = td.generate_refpcd(label_id, [refpcd_wall, refpcd_slab])\n",
    "\n",
    "result = td.generate_trainingdata(ref, pcd)"
   ]
  },
  {
   "cell_type": "code",
   "execution_count": null,
   "metadata": {},
   "outputs": [],
   "source": [
    "import Algorithms.trainingdata as td\n",
    "label_id = [(\"Wall\",\"2\"), (\"Floor\",\"1\")]\n",
    "results = td.Split_trainingsdata(result, label_id, clutter = True)\n",
    "print(results)\n"
   ]
  },
  {
   "cell_type": "code",
   "execution_count": null,
   "metadata": {},
   "outputs": [],
   "source": [
    "directory = r\"C:\\Repo\\SCAN2BIM-python\\Samples\\Test-Loesberg\"\n",
    "td.Save_trainingsdata(results, directory)"
   ]
  },
  {
   "cell_type": "markdown",
   "metadata": {},
   "source": []
  }
 ],
 "metadata": {
  "interpreter": {
   "hash": "d72c4a735eb44b65cfd5c65b6aafb12e28e04b63b9d23d625bb4178b8a74524e"
  },
  "kernelspec": {
   "display_name": "Python 3.8.8 64-bit ('scan2bim': conda)",
   "name": "python3"
  },
  "language_info": {
   "codemirror_mode": {
    "name": "ipython",
    "version": 3
   },
   "file_extension": ".py",
   "mimetype": "text/x-python",
   "name": "python",
   "nbconvert_exporter": "python",
   "pygments_lexer": "ipython3",
   "version": "3.8.12"
  },
  "orig_nbformat": 4
 },
 "nbformat": 4,
 "nbformat_minor": 2
}
