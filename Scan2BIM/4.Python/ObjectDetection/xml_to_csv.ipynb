{
 "metadata": {
  "language_info": {
   "codemirror_mode": {
    "name": "ipython",
    "version": 3
   },
   "file_extension": ".py",
   "mimetype": "text/x-python",
   "name": "python",
   "nbconvert_exporter": "python",
   "pygments_lexer": "ipython3",
   "version": "3.8.8-final"
  },
  "orig_nbformat": 2,
  "kernelspec": {
   "name": "python3",
   "display_name": "Python 3.8.8 64-bit ('scan2bim': conda)",
   "metadata": {
    "interpreter": {
     "hash": "d72c4a735eb44b65cfd5c65b6aafb12e28e04b63b9d23d625bb4178b8a74524e"
    }
   }
  }
 },
 "nbformat": 4,
 "nbformat_minor": 2,
 "cells": [
  {
   "cell_type": "code",
   "execution_count": 1,
   "metadata": {},
   "outputs": [],
   "source": [
    "import xml.etree.ElementTree as ET\n",
    "import csv\n",
    "\n",
    "# Passing the path of the \n",
    "# xml document to enable the \n",
    "# parsing process \n",
    "tree = ET.parse(r\"K:\\Projects\\2025-02 Project BAEKELAND MEETHET\\6.Code\\Repositories\\Scan2BIM\\Scan2BIM-python\\Samples\\ObjectDetection\\FE1.xml\")\n",
    "# getting the parent tag of \n",
    "# the xml document \n",
    "root = tree.getroot()\n",
    "\n",
    "# open a file for writing\n",
    "labels = open(r\"K:\\Projects\\2025-02 Project BAEKELAND MEETHET\\6.Code\\Repositories\\Scan2BIM\\Scan2BIM-python\\Samples\\ObjectDetection\\labels.csv\",'w')\n",
    "csvwriter = csv.writer(labels)\n",
    "labels_head = [\"filename\", \"width\", \"heigth\", \"class\", \"xmin\", \"ymin\", \"xmax\", \"ymax\"]"
   ]
  },
  {
   "cell_type": "code",
   "execution_count": 2,
   "metadata": {},
   "outputs": [
    {
     "output_type": "stream",
     "name": "stdout",
     "text": [
      "FE1.jpg\n201\n251\nFire extinguisher\n17\n6\n164\n249\n"
     ]
    }
   ],
   "source": [
    "data = []\n",
    "\n",
    "filename = root.find('filename').text\n",
    "print(filename)\n",
    "data.append(filename)\n",
    "\n",
    "size = root.find('size')\n",
    "width = size.find('width').text\n",
    "print(width)\n",
    "data.append(width)\n",
    "\n",
    "height = size.find('height').text\n",
    "print(height)\n",
    "data.append(height)\n",
    "\n",
    "objekt = root.find('object')\n",
    "klass = objekt.find('name').text\n",
    "print(klass)\n",
    "data.append(klass)\n",
    "\n",
    "bbox = objekt.find('bndbox')\n",
    "xmin = bbox.find('xmin').text\n",
    "print(xmin)\n",
    "data.append(xmin)\n",
    "\n",
    "ymin = bbox.find('ymin').text\n",
    "print(ymin)\n",
    "data.append(ymin)\n",
    "\n",
    "xmax = bbox.find('xmax').text\n",
    "print(xmax)\n",
    "data.append(xmax)\n",
    "\n",
    "ymax = bbox.find('ymax').text\n",
    "print(ymax)\n",
    "data.append(ymax)\n",
    "\n",
    "csvwriter.writerow(data)\n",
    "\n",
    "\n",
    "\n",
    "labels.close()\n"
   ]
  },
  {
   "cell_type": "code",
   "execution_count": 19,
   "metadata": {},
   "outputs": [
    {
     "output_type": "stream",
     "name": "stdout",
     "text": [
      "146\n[ 75  82 136  71 130 102  70   0  85 140 139  61 101  62  64  19  62  80\n 131  83  85  43 129  36  44 136 105 111  51]\n"
     ]
    }
   ],
   "source": [
    "import xml.etree.ElementTree as ET\n",
    "import csv\n",
    "import numpy as np\n",
    "\n",
    "labels_head = [\"filename\", \"width\", \"heigth\", \"class\", \"xmin\", \"ymin\", \"xmax\", \"ymax\"]\n",
    "\n",
    "test_labels = open(r\"D:\\Data\\ObjectLibrary\\Fire_Extinguisher\\test_labels.csv\",'w')\n",
    "test_csvwriter = csv.writer(test_labels)\n",
    "test_csvwriter.writerow(labels_head)\n",
    "\n",
    "train_labels = open(r\"D:\\Data\\ObjectLibrary\\Fire_Extinguisher\\train_labels.csv\",'w')\n",
    "train_csvwriter = csv.writer(train_labels)\n",
    "train_csvwriter.writerow(labels_head)\n",
    "\n",
    "annotationsdirectory = r\"D:\\Data\\ObjectLibrary\\Fire_Extinguisher\\annotations\"\n",
    "print(len(os.listdir(annotationsdirectory)))\n",
    "\n",
    "examples = len(os.listdir(annotationsdirectory))\n",
    "percentage_training = 0.8\n",
    "low = 0\n",
    "high = examples -1\n",
    "\n",
    "size = examples* (1-percentage_training)\n",
    "\n",
    "validation = np.random.randint(low= low, high= high, size= int(size), dtype= int)\n",
    "print(validation)\n",
    "\n",
    "count = 0 \n",
    "\n",
    "for f in os.listdir(annotationsdirectory):\n",
    "    # print(f)\n",
    "    tree = ET.parse(os.path.join(annotationsdirectory, f))\n",
    "    root = tree.getroot()\n",
    "    data = []\n",
    "\n",
    "    filename = root.find('filename').text\n",
    "    # print(filename)\n",
    "    data.append(filename)\n",
    "\n",
    "    size = root.find('size')\n",
    "    width = size.find('width').text\n",
    "    # print(width)\n",
    "    data.append(width)\n",
    "\n",
    "    height = size.find('height').text\n",
    "    # print(height)\n",
    "    data.append(height)\n",
    "\n",
    "    objekt = root.find('object')\n",
    "    klass = objekt.find('name').text\n",
    "    # print(klass)\n",
    "    data.append(klass)\n",
    "\n",
    "    bbox = objekt.find('bndbox')\n",
    "    xmin = bbox.find('xmin').text\n",
    "    # print(xmin)\n",
    "    data.append(xmin)\n",
    "\n",
    "    ymin = bbox.find('ymin').text\n",
    "    # print(ymin)\n",
    "    data.append(ymin)\n",
    "\n",
    "    xmax = bbox.find('xmax').text\n",
    "    # print(xmax)\n",
    "    data.append(xmax)\n",
    "\n",
    "    ymax = bbox.find('ymax').text\n",
    "    # print(ymax)\n",
    "    data.append(ymax)\n",
    "\n",
    "    if count in validation:\n",
    "        test_csvwriter.writerow(data)\n",
    "    else:\n",
    "        train_csvwriter.writerow(data)\n",
    "    count = count +1\n",
    "\n",
    "    \n",
    "test_labels.close()\n",
    "train_labels.close()\n",
    "\n"
   ]
  },
  {
   "cell_type": "code",
   "execution_count": null,
   "metadata": {},
   "outputs": [],
   "source": []
  }
 ]
}