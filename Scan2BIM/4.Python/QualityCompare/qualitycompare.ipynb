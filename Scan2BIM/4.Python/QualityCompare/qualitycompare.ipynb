{
 "metadata": {
  "language_info": {
   "codemirror_mode": {
    "name": "ipython",
    "version": 3
   },
   "file_extension": ".py",
   "mimetype": "text/x-python",
   "name": "python",
   "nbconvert_exporter": "python",
   "pygments_lexer": "ipython3",
   "version": "3.8.8-final"
  },
  "orig_nbformat": 2,
  "kernelspec": {
   "name": "python3",
   "display_name": "Python 3",
   "language": "python"
  }
 },
 "nbformat": 4,
 "nbformat_minor": 2,
 "cells": [
  {
   "cell_type": "code",
   "execution_count": null,
   "metadata": {},
   "outputs": [],
   "source": [
    "import open3d as o3d\n",
    "import numpy as np\n",
    "from matplotlib import pyplot as plt \n",
    "import scipy\n",
    "import time\n",
    "import scipy.stats as st\n",
    "\n",
    "Zero_time = time.perf_counter() "
   ]
  },
  {
   "source": [
    "Loading of both pointclouds"
   ],
   "cell_type": "markdown",
   "metadata": {}
  },
  {
   "cell_type": "code",
   "execution_count": null,
   "metadata": {},
   "outputs": [],
   "source": [
    "print(\"Load a pts point cloud\")\n",
    "reference = o3d.io.read_point_cloud(r\"K:\\Projects\\2025-02 Project BAEKELAND MEETHET\\7.Recordings\\2020-11-MEET_HET_HQ\\Pointclouds\\Wall\\P30.pts\")\n",
    "t1 = time.perf_counter()\n",
    "dt1 = t1 - Zero_time\n",
    "print(\"Reference cloud loaded in %s s\" % dt1)\n",
    "print(reference)\n",
    "target = o3d.io.read_point_cloud(r\"K:\\Projects\\2025-02 Project BAEKELAND MEETHET\\7.Recordings\\2020-11-MEET_HET_HQ\\Pointclouds\\Wall\\VLX.pts\")\n",
    "t2 = time.perf_counter()\n",
    "dt2 = t2 - t1\n",
    "print(\"Target cloud loaded in %s s\" % dt2)\n",
    "print(target)\n"
   ]
  },
  {
   "source": [
    "Downsampling of the pointclouds"
   ],
   "cell_type": "markdown",
   "metadata": {}
  },
  {
   "cell_type": "code",
   "execution_count": null,
   "metadata": {},
   "outputs": [],
   "source": [
    "voxel_size = 0.005\n",
    "\n",
    "print(\"Downsampling Pointclouds to excalerate computations Voxel size: %s m\" % voxel_size)\n",
    "\n",
    "ref_voxel = reference.voxel_down_sample(voxel_size)\n",
    "t3 = time.perf_counter()\n",
    "dt3 = t3 - t2\n",
    "print(\"Downsampled the pointclouds in %s s\" % dt3)\n",
    "print(ref_voxel)\n",
    "\n",
    "tar_voxel = target.voxel_down_sample(voxel_size)\n",
    "\n",
    "t4 = time.perf_counter()\n",
    "dt4 = t4 - t3\n",
    "print(\"Downsampled the pointclouds in %s s\" % dt4)\n",
    "print(tar_voxel)"
   ]
  },
  {
   "cell_type": "code",
   "execution_count": null,
   "metadata": {},
   "outputs": [],
   "source": [
    "c2c = tar_voxel.compute_point_cloud_distance(ref_voxel)\n",
    "t5 = time.perf_counter()\n",
    "dt5 = t5 - t4\n",
    "c2cArray = np.asarray(c2c)\n",
    "print(\"Cloud 2 cloud calculated in %s s\" % dt5)\n",
    "print(c2cArray)"
   ]
  },
  {
   "cell_type": "code",
   "execution_count": null,
   "metadata": {},
   "outputs": [],
   "source": [
    "tar_voxel.paint_uniform_color([0.5,0.5,0.5]) #Grey"
   ]
  },
  {
   "cell_type": "code",
   "execution_count": null,
   "metadata": {
    "tags": []
   },
   "outputs": [],
   "source": [
    "i =0\n",
    "LOA30 = []\n",
    "LOA20 = []\n",
    "LOA10 = []\n",
    "LOA00 = []\n",
    "Outlier = []\n",
    "Outlier_points = []\n",
    "LOA30_points = []\n",
    "LOA20_points = []\n",
    "LOA10_points = []\n",
    "while i < len(c2c):\n",
    "    if c2c[i] <= 0.015:\n",
    "        np.asarray(tar_voxel.colors)[i] = [0,1,0] #Green\n",
    "        LOA30.append(np.append(tar_voxel.points[i],c2c[i]))\n",
    "        LOA00.append(c2c[i])\n",
    "        LOA30_points.append(tar_voxel.points[i])\n",
    "    elif c2c[i] <= 0.05:\n",
    "        np.asarray(tar_voxel.colors)[i] = [1,0.5,0] #Orange\n",
    "        LOA20.append(np.append(tar_voxel.points[i],c2c[i]))\n",
    "        LOA00.append(c2c[i])\n",
    "        LOA20_points.append(tar_voxel.points[i])\n",
    "    elif c2c[i] <= 0.1:\n",
    "        np.asarray(tar_voxel.colors)[i] = [1,0,0] #Red\n",
    "        LOA10.append(np.append(tar_voxel.points[i],c2c[i]))\n",
    "        LOA00.append(c2c[i])\n",
    "        LOA10_points.append(tar_voxel.points[i])\n",
    "    elif c2c[i] > 0.1:\n",
    "        Outlier.append(np.append(tar_voxel.points[i],c2c[i]))\n",
    "        Outlier_points.append(tar_voxel.points[i])\n",
    "    i = i+1\n",
    "\n",
    "# print(np.asarray(LOA30))\n",
    "# print(np.asarray(LOA20))\n",
    "# print(np.asarray(LOA10))\n",
    "# print(np.asarray(Outlier))\n",
    "# print(np.asarray(Outlier_points))\n",
    "t6 = time.perf_counter()\n",
    "dt6 = t6 - t5\n",
    "c2cArray = np.asarray(c2c)\n",
    "print(\"LOAs seperated calculated in %s s\" % dt6)"
   ]
  },
  {
   "source": [
    "Outlier_pcd = o3d.geometry.PointCloud()\n",
    "Outlier_pcd.points = o3d.utility.Vector3dVector(Outlier_points)\n",
    "print(np.asarray(Outlier_pcd))"
   ],
   "cell_type": "code",
   "metadata": {},
   "execution_count": null,
   "outputs": []
  },
  {
   "cell_type": "code",
   "execution_count": null,
   "metadata": {},
   "outputs": [],
   "source": [
    "Outlier_pcd.paint_uniform_color([1,0,0]) #Red\n",
    "o3d.visualization.draw_geometries([Outlier_pcd])\n"
   ]
  },
  {
   "cell_type": "code",
   "execution_count": null,
   "metadata": {},
   "outputs": [],
   "source": [
    "LOA30_pcd = o3d.geometry.PointCloud()\n",
    "LOA30_pcd.points = o3d.utility.Vector3dVector(LOA30_points)\n",
    "print(np.asarray(LOA30_pcd))"
   ]
  },
  {
   "cell_type": "code",
   "execution_count": null,
   "metadata": {},
   "outputs": [],
   "source": [
    "LOA30_pcd.paint_uniform_color([0,0,1]) #Red\n",
    "o3d.visualization.draw_geometries([LOA30_pcd])"
   ]
  },
  {
   "cell_type": "code",
   "execution_count": null,
   "metadata": {},
   "outputs": [],
   "source": [
    "y, x = np.histogram(c2cArray,bins= np.histogram_bin_edges(c2cArray,bins = 'auto'))\n",
    "y = np.cumsum(y) / len(c2cArray)\n",
    "fig, ax = plt.subplots()\n",
    "ax.plot(x[:-1], y)\n",
    "fig.show()"
   ]
  },
  {
   "cell_type": "code",
   "execution_count": null,
   "metadata": {},
   "outputs": [],
   "source": [
    "y, x = np.histogram(c2cArray,bins= np.histogram_bin_edges(c2cArray,bins = 'auto', range = (0,0.1)))\n",
    "y = np.cumsum(y) / len(c2cArray)\n",
    "fig, ax = plt.subplots()\n",
    "ax.plot(x[:-1], y)\n",
    "fig.show()"
   ]
  },
  {
   "cell_type": "code",
   "execution_count": null,
   "metadata": {},
   "outputs": [],
   "source": [
    "  nr_points_total = len(c2c)\n",
    "  nr_points_LOA30 = len(LOA30)\n",
    "  nr_points_LOA20 = len(LOA20)\n",
    "  nr_points_LOA10 = len(LOA10)\n",
    "  nr_points_LOA00 = len(LOA00)\n",
    "  nr_points_Outlier = len(Outlier)\n",
    "\n",
    "  prct_LOA30 = nr_points_LOA30/nr_points_total *100\n",
    "  prct_LOA20 = nr_points_LOA20/nr_points_total *100\n",
    "  prct_LOA10 = nr_points_LOA10/nr_points_total *100\n",
    "  prct_Outlier = nr_points_Outlier/nr_points_total *100\n",
    "\n",
    "  print(\"Percentages:\")\n",
    "  print(\"LOA30: %s %%\" % prct_LOA30)\n",
    "  print(\"LOA20: %s %%\" % prct_LOA20)\n",
    "  print(\"LOA10: %s %%\" % prct_LOA10)\n",
    "  print(\"Outliers: %s %%\" % prct_Outlier)\n"
   ]
  },
  {
   "cell_type": "code",
   "execution_count": null,
   "metadata": {},
   "outputs": [],
   "source": [
    "  prct_LOA30 = nr_points_LOA30/(nr_points_LOA00) *100\n",
    "  prct_LOA20 = nr_points_LOA20/(nr_points_LOA00) *100\n",
    "  prct_LOA10 = nr_points_LOA10/(nr_points_LOA00) *100\n",
    "\n",
    "  print(\"Percentages (no outliers):\")\n",
    "  print(\"LOA30: %s %%\" % prct_LOA30)\n",
    "  print(\"LOA20: %s %%\" % prct_LOA20)\n",
    "  print(\"LOA10: %s %%\" % prct_LOA10)"
   ]
  },
  {
   "cell_type": "code",
   "execution_count": null,
   "metadata": {},
   "outputs": [],
   "source": [
    "percentile95 = np.percentile(c2cArray, 95)\n",
    "print(percentile95)"
   ]
  },
  {
   "source": [
    "percentile95 = np.percentile(LOA00, 95)\n",
    "print(percentile95)"
   ],
   "cell_type": "code",
   "metadata": {},
   "execution_count": null,
   "outputs": []
  },
  {
   "cell_type": "code",
   "execution_count": null,
   "metadata": {},
   "outputs": [],
   "source": [
    "percentile68 = np.percentile(c2cArray,68)\n",
    "print(percentile68)"
   ]
  },
  {
   "cell_type": "code",
   "execution_count": null,
   "metadata": {},
   "outputs": [],
   "source": [
    "percentile68 = np.percentile(LOA00, 68)\n",
    "print(percentile68)"
   ]
  },
  {
   "cell_type": "code",
   "execution_count": null,
   "metadata": {},
   "outputs": [],
   "source": []
  }
 ]
}