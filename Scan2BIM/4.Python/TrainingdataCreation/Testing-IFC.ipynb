{
 "cells": [
  {
   "cell_type": "code",
   "execution_count": 1,
   "metadata": {},
   "outputs": [],
   "source": [
    "import ifcopenshell.util\n",
    "import ifcopenshell.geom as geom\n",
    "from ifcopenshell.util.selector import Selector\n",
    "import open3d as o3d\n",
    "import numpy as np\n",
    "import time\n",
    "import os\n",
    "import trainingdata\n",
    "import multiprocessing\n",
    "\n",
    "settings = geom.settings()\n",
    "# settings.set(settings.USE_WORLD_COORDS, True)"
   ]
  },
  {
   "cell_type": "code",
   "execution_count": 2,
   "metadata": {},
   "outputs": [],
   "source": [
    "def loop_projects(path):\n",
    "    directory_contents = os.listdir(path)\n",
    "    for item in directory_contents:\n",
    "        file = os.path.join(path,item)\n",
    "        ifc_file = ifcopenshell.open(file)\n",
    "        print(item, ifc_file.schema)\n",
    "        # iterator = ifcopenshell.geom.iterator(settings, ifc_file, multiprocessing.cpu_count())\n",
    "        # if iterator.initialize():\n",
    "        #     while iterator.next():\n",
    "        #         shape = iterator.get()\n",
    "        #         element = ifc_file.by_guid(shape.guid)\n",
    "        #         print(element)\n",
    "        for ifc_entity in ifc_file.by_type(\"IfcWall\"):\n",
    "                shape = geom.create_shape(settings, ifc_entity)\n",
    "                print(ifc_entity)\n"
   ]
  },
  {
   "cell_type": "code",
   "execution_count": 3,
   "metadata": {},
   "outputs": [],
   "source": [
    "loop_projects(r\"C:\\Data\\FME-IFC\")"
   ]
  }
 ],
 "metadata": {
  "interpreter": {
   "hash": "09224df32feb699c2ac2d7483c24048f0abc216e57ff02a2e7de18c7b5708e54"
  },
  "kernelspec": {
   "display_name": "Python 3.8.10 64-bit ('trainingdata': conda)",
   "language": "python",
   "name": "python3"
  },
  "language_info": {
   "codemirror_mode": {
    "name": "ipython",
    "version": 3
   },
   "file_extension": ".py",
   "mimetype": "text/x-python",
   "name": "python",
   "nbconvert_exporter": "python",
   "pygments_lexer": "ipython3",
   "version": "3.8.8"
  },
  "orig_nbformat": 4
 },
 "nbformat": 4,
 "nbformat_minor": 2
}
