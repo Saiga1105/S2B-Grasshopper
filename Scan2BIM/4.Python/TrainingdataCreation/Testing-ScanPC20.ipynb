{
 "cells": [
  {
   "cell_type": "code",
   "execution_count": 1,
   "metadata": {},
   "outputs": [
    {
     "name": "stdout",
     "output_type": "stream",
     "text": [
      "Jupyter environment detected. Enabling Open3D WebVisualizer.\n",
      "[Open3D INFO] WebRTC GUI backend enabled.\n",
      "[Open3D INFO] WebRTCWindowSystem: HTTP handshake server disabled.\n"
     ]
    }
   ],
   "source": [
    "import ifcopenshell.util\n",
    "import ifcopenshell.geom as geom\n",
    "from ifcopenshell.util.selector import Selector\n",
    "import open3d as o3d\n",
    "import numpy as np\n",
    "import time\n",
    "import os\n",
    "import trainingdata"
   ]
  },
  {
   "cell_type": "code",
   "execution_count": 2,
   "metadata": {},
   "outputs": [],
   "source": [
    "def loop_projects(path, classes):\n",
    "    directory_contents = os.listdir(path)\n",
    "    for item in directory_contents:\n",
    "        print(os.path.isdir(os.path.join(path,item)))\n",
    "        if os.path.isdir(os.path.join(path,item)) and \"-BIM-\" in item:\n",
    "            (projectname, ifc_folder, pointcloud_folder) = trainingdata.load_project(os.path.join(path,item))\n",
    "            count=0\n",
    "            class_config = []\n",
    "            for Class in classes:\n",
    "                class_config.append([Class[0],Class[1],count,[]])\n",
    "                count = count+1\n",
    "            print(classes)\n",
    "            for Class in class_config:\n",
    "                classrefcloud = trainingdata.IFCtoO3d(ifc_folder, Class[1], voxel_size = 0.01)\n",
    "                Class[3].append(classrefcloud)\n",
    "            trainingdata.mergeclass_subclouds(class_config)\n",
    "            reference_pointcloud = trainingdata.generate_refpcd(class_config) \n",
    "            labeled_pointcloud = trainingdata.generate_trainingdata(reference_pointcloud, pointcloud_folder)\n",
    "            class_pointclouds = trainingdata.Split_trainingsdata(labeled_pointcloud , class_config, clutter = True)\n",
    "            trainingdata.Save_trainingsdata(class_pointclouds, path, name = projectname)\n",
    "   "
   ]
  },
  {
   "cell_type": "code",
   "execution_count": 3,
   "metadata": {},
   "outputs": [
    {
     "name": "stdout",
     "output_type": "stream",
     "text": [
      "C:\\Repo\\SCAN2BIM-python\\Samples\\Projects\n",
      "['1111-BIM-Project 2', '1111-BIM-Project 3', '1111-BIM-Project 4', '1111-BIM-Project 5', 'pointcloud1.pcd', 'TrainingData']\n",
      "True\n",
      "TD-Project-2\n",
      "TD-Project-2\n",
      "True\n",
      "TD-Project-3\n",
      "TD-Project-3\n",
      "True\n",
      "TD-Project-4\n",
      "TD-Project-4\n",
      "True\n",
      "TD-Project-5\n",
      "TD-Project-5\n",
      "False\n",
      "True\n"
     ]
    }
   ],
   "source": [
    "class_config = [(\"Wall\",[\"IfcWall\",\"IfcDoor\",\"IfcWindow\"]),(\"Floor\",[\"IfcSlab\"])]\n",
    "loop_projects(r\"C:\\Repo\\SCAN2BIM-python\\Samples\\Projects\", class_config)"
   ]
  }
 ],
 "metadata": {
  "interpreter": {
   "hash": "09224df32feb699c2ac2d7483c24048f0abc216e57ff02a2e7de18c7b5708e54"
  },
  "kernelspec": {
   "display_name": "Python 3.8.10 64-bit ('trainingdata': conda)",
   "language": "python",
   "name": "python3"
  },
  "language_info": {
   "codemirror_mode": {
    "name": "ipython",
    "version": 3
   },
   "file_extension": ".py",
   "mimetype": "text/x-python",
   "name": "python",
   "nbconvert_exporter": "python",
   "pygments_lexer": "ipython3",
   "version": "3.8.8"
  },
  "orig_nbformat": 4
 },
 "nbformat": 4,
 "nbformat_minor": 2
}
