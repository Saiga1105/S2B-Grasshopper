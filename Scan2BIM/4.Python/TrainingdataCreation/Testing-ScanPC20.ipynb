{
 "cells": [
  {
   "cell_type": "code",
   "execution_count": 1,
   "metadata": {},
   "outputs": [
    {
     "name": "stdout",
     "output_type": "stream",
     "text": [
      "Jupyter environment detected. Enabling Open3D WebVisualizer.\n",
      "[Open3D INFO] WebRTC GUI backend enabled.\n",
      "[Open3D INFO] WebRTCWindowSystem: HTTP handshake server disabled.\n"
     ]
    }
   ],
   "source": [
    "import ifcopenshell.util\n",
    "import ifcopenshell.geom as geom\n",
    "from ifcopenshell.util.selector import Selector\n",
    "import open3d as o3d\n",
    "import numpy as np\n",
    "import time\n",
    "import os\n",
    "import trainingdata"
   ]
  },
  {
   "cell_type": "code",
   "execution_count": 2,
   "metadata": {},
   "outputs": [],
   "source": [
    "def loop_projects(path, classes):\n",
    "    directory_contents = os.listdir(path)\n",
    "    for item in directory_contents:\n",
    "        print(os.path.isdir(os.path.join(path,item)))\n",
    "        if os.path.isdir(os.path.join(path,item)) and \"-BIM-\" in item:\n",
    "            (projectname, ifc_folder, pointcloud_folder) = trainingdata.load_project(os.path.join(path,item))\n",
    "            print(projectname)\n",
    "            count=0\n",
    "            class_config = []\n",
    "            for Class in classes:\n",
    "                class_config.append([Class[0],Class[1],count,[]])\n",
    "                count = count+1\n",
    "            print(classes)\n",
    "            for Class in class_config:\n",
    "                classrefcloud = trainingdata.IFCtoO3d(ifc_folder, Class[1], voxel_size = 0.01)\n",
    "                Class[3].append(classrefcloud)\n",
    "            trainingdata.mergeclass_subclouds(class_config)\n",
    "            reference_pointcloud = trainingdata.generate_refpcd(class_config) \n",
    "            labeled_pointcloud = trainingdata.generate_trainingdata(reference_pointcloud, pointcloud_folder)\n",
    "            class_pointclouds = trainingdata.Split_trainingsdata(labeled_pointcloud , class_config, clutter = True)\n",
    "            trainingdata.Save_trainingsdata(class_pointclouds, path, name = projectname)\n",
    "   "
   ]
  },
  {
   "cell_type": "code",
   "execution_count": 3,
   "metadata": {},
   "outputs": [
    {
     "name": "stdout",
     "output_type": "stream",
     "text": [
      "True\n",
      "TD-De-Haan-Vondellaan-2\n",
      "TD-De-Haan-Vondellaan-2\n",
      "[('Wall', ['IfcWall', 'IfcDoor', 'IfcWindow']), ('Floor', ['IfcSlab'])]\n",
      "D:\\SAM-Repo\\scan-to-bim-python\\Samples\\Projects\\2021-10-BIM-De-Haan Vondellaan 2\\MODELS\\IFC\n",
      "012010-47-BIM-De Haan Vondellaan 2_IFC_R00.ifc\n",
      "PointCloud with 1317012 points.\n",
      "D:\\SAM-Repo\\scan-to-bim-python\\Samples\\Projects\\2021-10-BIM-De-Haan Vondellaan 2\\MODELS\\IFC\n",
      "012010-47-BIM-De Haan Vondellaan 2_IFC_R00.ifc\n",
      "PointCloud with 1079769 points.\n",
      "ERROR: Need same amount of pointclouds as label arrays\n",
      "Clutter\n",
      "[]\n"
     ]
    },
    {
     "ename": "IndexError",
     "evalue": "list index out of range",
     "output_type": "error",
     "traceback": [
      "\u001b[1;31m---------------------------------------------------------------------------\u001b[0m",
      "\u001b[1;31mIndexError\u001b[0m                                Traceback (most recent call last)",
      "\u001b[1;32m<ipython-input-3-0ad3b2f5ff53>\u001b[0m in \u001b[0;36m<module>\u001b[1;34m\u001b[0m\n\u001b[0;32m      1\u001b[0m \u001b[0mclass_config\u001b[0m \u001b[1;33m=\u001b[0m \u001b[1;33m[\u001b[0m\u001b[1;33m(\u001b[0m\u001b[1;34m\"Wall\"\u001b[0m\u001b[1;33m,\u001b[0m\u001b[1;33m[\u001b[0m\u001b[1;34m\"IfcWall\"\u001b[0m\u001b[1;33m,\u001b[0m\u001b[1;34m\"IfcDoor\"\u001b[0m\u001b[1;33m,\u001b[0m\u001b[1;34m\"IfcWindow\"\u001b[0m\u001b[1;33m]\u001b[0m\u001b[1;33m)\u001b[0m\u001b[1;33m,\u001b[0m\u001b[1;33m(\u001b[0m\u001b[1;34m\"Floor\"\u001b[0m\u001b[1;33m,\u001b[0m\u001b[1;33m[\u001b[0m\u001b[1;34m\"IfcSlab\"\u001b[0m\u001b[1;33m]\u001b[0m\u001b[1;33m)\u001b[0m\u001b[1;33m]\u001b[0m\u001b[1;33m\u001b[0m\u001b[1;33m\u001b[0m\u001b[0m\n\u001b[0;32m      2\u001b[0m \u001b[0mdirectory\u001b[0m \u001b[1;33m=\u001b[0m \u001b[1;34mr\"D:\\SAM-Repo\\scan-to-bim-python\\Samples\\Projects\"\u001b[0m\u001b[1;33m\u001b[0m\u001b[1;33m\u001b[0m\u001b[0m\n\u001b[1;32m----> 3\u001b[1;33m \u001b[0mloop_projects\u001b[0m\u001b[1;33m(\u001b[0m\u001b[0mdirectory\u001b[0m\u001b[1;33m,\u001b[0m \u001b[0mclass_config\u001b[0m\u001b[1;33m)\u001b[0m\u001b[1;33m\u001b[0m\u001b[1;33m\u001b[0m\u001b[0m\n\u001b[0m\u001b[0;32m      4\u001b[0m \u001b[0mdirectory_contents\u001b[0m \u001b[1;33m=\u001b[0m \u001b[0mos\u001b[0m\u001b[1;33m.\u001b[0m\u001b[0mlistdir\u001b[0m\u001b[1;33m(\u001b[0m\u001b[0mdirectory\u001b[0m\u001b[1;33m)\u001b[0m\u001b[1;33m\u001b[0m\u001b[1;33m\u001b[0m\u001b[0m\n",
      "\u001b[1;32m<ipython-input-2-1a16452f3832>\u001b[0m in \u001b[0;36mloop_projects\u001b[1;34m(path, classes)\u001b[0m\n\u001b[0;32m     17\u001b[0m             \u001b[0mtrainingdata\u001b[0m\u001b[1;33m.\u001b[0m\u001b[0mmergeclass_subclouds\u001b[0m\u001b[1;33m(\u001b[0m\u001b[0mclass_config\u001b[0m\u001b[1;33m)\u001b[0m\u001b[1;33m\u001b[0m\u001b[1;33m\u001b[0m\u001b[0m\n\u001b[0;32m     18\u001b[0m             \u001b[0mreference_pointcloud\u001b[0m \u001b[1;33m=\u001b[0m \u001b[0mtrainingdata\u001b[0m\u001b[1;33m.\u001b[0m\u001b[0mgenerate_refpcd\u001b[0m\u001b[1;33m(\u001b[0m\u001b[0mclass_config\u001b[0m\u001b[1;33m)\u001b[0m\u001b[1;33m\u001b[0m\u001b[1;33m\u001b[0m\u001b[0m\n\u001b[1;32m---> 19\u001b[1;33m             \u001b[0mlabeled_pointcloud\u001b[0m \u001b[1;33m=\u001b[0m \u001b[0mtrainingdata\u001b[0m\u001b[1;33m.\u001b[0m\u001b[0mgenerate_trainingdata\u001b[0m\u001b[1;33m(\u001b[0m\u001b[0mreference_pointcloud\u001b[0m\u001b[1;33m,\u001b[0m \u001b[0mpointcloud_folder\u001b[0m\u001b[1;33m)\u001b[0m\u001b[1;33m\u001b[0m\u001b[1;33m\u001b[0m\u001b[0m\n\u001b[0m\u001b[0;32m     20\u001b[0m             \u001b[0mclass_pointclouds\u001b[0m \u001b[1;33m=\u001b[0m \u001b[0mtrainingdata\u001b[0m\u001b[1;33m.\u001b[0m\u001b[0mSplit_trainingsdata\u001b[0m\u001b[1;33m(\u001b[0m\u001b[0mlabeled_pointcloud\u001b[0m \u001b[1;33m,\u001b[0m \u001b[0mclass_config\u001b[0m\u001b[1;33m,\u001b[0m \u001b[0mclutter\u001b[0m \u001b[1;33m=\u001b[0m \u001b[1;32mTrue\u001b[0m\u001b[1;33m)\u001b[0m\u001b[1;33m\u001b[0m\u001b[1;33m\u001b[0m\u001b[0m\n\u001b[0;32m     21\u001b[0m             \u001b[0mtrainingdata\u001b[0m\u001b[1;33m.\u001b[0m\u001b[0mSave_trainingsdata\u001b[0m\u001b[1;33m(\u001b[0m\u001b[0mclass_pointclouds\u001b[0m\u001b[1;33m,\u001b[0m \u001b[0mpath\u001b[0m\u001b[1;33m,\u001b[0m \u001b[0mname\u001b[0m \u001b[1;33m=\u001b[0m \u001b[0mprojectname\u001b[0m\u001b[1;33m)\u001b[0m\u001b[1;33m\u001b[0m\u001b[1;33m\u001b[0m\u001b[0m\n",
      "\u001b[1;32md:\\SAM-Repo\\scan-to-bim-python\\src\\TrainingdataCreation\\trainingdata.py\u001b[0m in \u001b[0;36mgenerate_trainingdata\u001b[1;34m(ref, pcd_folder_path, voxel_size, c2c_treshold, search_radius)\u001b[0m\n\u001b[0;32m    193\u001b[0m             \u001b[0mid\u001b[0m \u001b[1;33m=\u001b[0m \u001b[0mid\u001b[0m \u001b[1;33m+\u001b[0m \u001b[1;36m1\u001b[0m\u001b[1;33m\u001b[0m\u001b[1;33m\u001b[0m\u001b[0m\n\u001b[0;32m    194\u001b[0m     \u001b[1;32melse\u001b[0m\u001b[1;33m:\u001b[0m\u001b[1;33m\u001b[0m\u001b[1;33m\u001b[0m\u001b[0m\n\u001b[1;32m--> 195\u001b[1;33m         \u001b[0mClutter_pcd\u001b[0m \u001b[1;33m=\u001b[0m \u001b[0mClutter_clouds\u001b[0m\u001b[1;33m[\u001b[0m\u001b[1;36m0\u001b[0m\u001b[1;33m]\u001b[0m\u001b[1;33m\u001b[0m\u001b[1;33m\u001b[0m\u001b[0m\n\u001b[0m\u001b[0;32m    196\u001b[0m \u001b[1;33m\u001b[0m\u001b[0m\n\u001b[0;32m    197\u001b[0m     \u001b[1;32mreturn\u001b[0m \u001b[1;33m(\u001b[0m\u001b[0minlier_pcd\u001b[0m\u001b[1;33m,\u001b[0m \u001b[0minlier_label\u001b[0m\u001b[1;33m,\u001b[0m \u001b[0mClutter_pcd\u001b[0m\u001b[1;33m)\u001b[0m\u001b[1;33m\u001b[0m\u001b[1;33m\u001b[0m\u001b[0m\n",
      "\u001b[1;31mIndexError\u001b[0m: list index out of range"
     ]
    }
   ],
   "source": [
    "class_config = [(\"Wall\",[\"IfcWall\",\"IfcDoor\",\"IfcWindow\"]),(\"Floor\",[\"IfcSlab\"])]\n",
    "directory = r\"D:\\SAM-Temp\\Projects\"\n",
    "loop_projects(directory, class_config)\n",
    "directory_contents = os.listdir(directory)"
   ]
  }
 ],
 "metadata": {
  "interpreter": {
   "hash": "09224df32feb699c2ac2d7483c24048f0abc216e57ff02a2e7de18c7b5708e54"
  },
  "kernelspec": {
   "display_name": "Python 3.8.10 64-bit ('trainingdata': conda)",
   "language": "python",
   "name": "python3"
  },
  "language_info": {
   "codemirror_mode": {
    "name": "ipython",
    "version": 3
   },
   "file_extension": ".py",
   "mimetype": "text/x-python",
   "name": "python",
   "nbconvert_exporter": "python",
   "pygments_lexer": "ipython3",
   "version": "3.8.8"
  },
  "orig_nbformat": 4
 },
 "nbformat": 4,
 "nbformat_minor": 2
}
