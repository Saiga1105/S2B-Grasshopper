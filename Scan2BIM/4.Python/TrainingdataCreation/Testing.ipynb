{
 "cells": [
  {
   "cell_type": "code",
   "execution_count": 1,
   "metadata": {},
   "outputs": [
    {
     "name": "stdout",
     "output_type": "stream",
     "text": [
      "Jupyter environment detected. Enabling Open3D WebVisualizer.\n",
      "[Open3D INFO] WebRTC GUI backend enabled.\n",
      "[Open3D INFO] WebRTCWindowSystem: HTTP handshake server disabled.\n"
     ]
    }
   ],
   "source": [
    "import ifcopenshell.util\n",
    "import ifcopenshell.geom as geom\n",
    "from ifcopenshell.util.selector import Selector\n",
    "import open3d as o3d\n",
    "import numpy as np\n",
    "import time\n",
    "import os\n",
    "import trainingdata"
   ]
  },
  {
   "cell_type": "code",
   "execution_count": 2,
   "metadata": {},
   "outputs": [],
   "source": [
    "def mergeclass_subclouds(class_config):\n",
    "    for Class in class_config:\n",
    "        classpcd = o3d.geometry.PointCloud()\n",
    "        if len(Class[3]) > 1:\n",
    "            id = 0\n",
    "            while id < len(Class[3]):\n",
    "                pcd = Class[3][id]\n",
    "                classpcd.__iadd__(pcd)\n",
    "                id = id + 1\n",
    "            Class[3] = classpcd\n",
    "        else:\n",
    "            Class[3] = Class[3][0]\n"
   ]
  },
  {
   "cell_type": "code",
   "execution_count": 3,
   "metadata": {},
   "outputs": [],
   "source": [
    "def loop_projects(path, classes):\n",
    "    directory_contents = os.listdir(path)\n",
    "    for item in directory_contents:\n",
    "        if os.path.isdir(os.path.join(path,item)) and \"-BIM-\" in item:\n",
    "            (projectname, ifc_folder, pointcloud_folder) = trainingdata.load_project(os.path.join(path,item))\n",
    "            count=0\n",
    "            class_config = []\n",
    "            for Class in classes:\n",
    "                class_config.append([Class[0],Class[1],count,[]])\n",
    "                count = count+1\n",
    "            for Class in class_config:\n",
    "                classrefcloud = trainingdata.IFCtoO3d(ifc_folder, Class[1], voxel_size = 0.01)\n",
    "                Class[3].append(classrefcloud)\n",
    "            trainingdata.mergeclass_subclouds(class_config)\n",
    "            reference_pointcloud = trainingdata.generate_refpcd(class_config) \n",
    "            labeled_pointcloud = trainingdata.generate_trainingdata(reference_pointcloud, pointcloud_folder)\n",
    "            class_pointclouds = trainingdata.Split_trainingsdata(labeled_pointcloud , class_config, clutter = True)\n",
    "            trainingdata.Save_trainingsdata(class_pointclouds, path, name = projectname)\n",
    "   "
   ]
  },
  {
   "cell_type": "code",
   "execution_count": 5,
   "metadata": {},
   "outputs": [],
   "source": [
    "class_config = [(\"Wall\",[\"IfcWall\",\"IfcDoor\",\"IfcWindow\"]),(\"Floor\",[\"IfcSlab\"])]\n",
    "loop_projects(r\"D:\\SAM-Repo\\scan-to-bim-python\\Samples\\Projects\", class_config)"
   ]
  }
 ],
 "metadata": {
  "interpreter": {
   "hash": "09224df32feb699c2ac2d7483c24048f0abc216e57ff02a2e7de18c7b5708e54"
  },
  "kernelspec": {
   "display_name": "Python 3.8.10 64-bit ('trainingdata': conda)",
   "language": "python",
   "name": "python3"
  },
  "language_info": {
   "codemirror_mode": {
    "name": "ipython",
    "version": 3
   },
   "file_extension": ".py",
   "mimetype": "text/x-python",
   "name": "python",
   "nbconvert_exporter": "python",
   "pygments_lexer": "ipython3",
   "version": "3.8.8"
  },
  "orig_nbformat": 4
 },
 "nbformat": 4,
 "nbformat_minor": 2
}
