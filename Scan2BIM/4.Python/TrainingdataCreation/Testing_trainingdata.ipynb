{
 "cells": [
  {
   "cell_type": "code",
   "execution_count": 4,
   "metadata": {},
   "outputs": [],
   "source": [
    "import ifcopenshell.util\n",
    "import ifcopenshell.geom as geom\n",
    "from ifcopenshell.util.selector import Selector\n",
    "import open3d as o3d\n",
    "import numpy as np\n",
    "import time\n",
    "import os\n",
    "import trainingdata"
   ]
  },
  {
   "cell_type": "code",
   "execution_count": 5,
   "metadata": {},
   "outputs": [],
   "source": [
    "def loop_projects(path, classes):\n",
    "    directory_contents = os.listdir(path)\n",
    "    for item in directory_contents:\n",
    "        if os.path.isdir(os.path.join(path,item)) and \"-BIM-\" in item:\n",
    "            (projectname, ifc_folder, pointcloud_folder) = trainingdata.load_project(os.path.join(path,item))\n",
    "            count=0\n",
    "            class_config = []\n",
    "            for Class in classes:\n",
    "                class_config.append([Class[0],Class[1],count,[]])\n",
    "                count = count+1\n",
    "            for Class in class_config:\n",
    "                classrefcloud = trainingdata.IFCtoO3d(ifc_folder, Class[1], voxel_size = 0.01)\n",
    "                Class[3].append(classrefcloud)\n",
    "            (floor, ceiling) = trainingdata.IFCtoO3d_Slabs_floors(ifc_folder, voxel_size= 0.01)\n",
    "            class_config.append(['Floor', ['IfcSlab'], count, [floor]])\n",
    "            class_config[2][3].append(ceiling)\n",
    "            (roof, ceiling2) = trainingdata.IFCtoO3d_Slabs_roofs(ifc_folder, voxel_size= 0.01)\n",
    "            class_config.append(['Roof', ['IfcRoof'], count+2, [roof]])\n",
    "            class_config[2][3].append(ceiling2)\n",
    "            print(class_config)\n",
    "            # print(\"Create reference\")\n",
    "            trainingdata.mergeclass_subclouds(class_config)\n",
    "            # print(class_config)\n",
    "            reference_pointcloud = trainingdata.generate_refpcd(class_config)\n",
    "            print(\"Create trainingdata\")\n",
    "            labeled_pointcloud = trainingdata.generate_trainingdata(reference_pointcloud, pointcloud_folder, voxel_size = 0.01, c2c_treshold = 0.1, search_radius = 0.1)\n",
    "            # print(labeled_pointcloud[1])\n",
    "            class_pointclouds = trainingdata.Split_trainingsdata(labeled_pointcloud , class_config, clutter = True)\n",
    "            print(\"Save trainingdata\")\n",
    "            print(class_pointclouds)\n",
    "            trainingdata.Save_trainingsdata(class_pointclouds, path, name = projectname)\n",
    "   "
   ]
  },
  {
   "cell_type": "code",
   "execution_count": 3,
   "metadata": {},
   "outputs": [
    {
     "name": "stdout",
     "output_type": "stream",
     "text": [
      "TD-Populierenhof\n",
      "FAILED: shape creation\n",
      "FAILED: shape creation\n",
      "FAILED: shape creation\n",
      "FAILED: shape creation\n",
      "FAILED: shape creation\n",
      "FAILED: shape creation\n",
      "FAILED: shape creation\n",
      "FAILED: shape creation\n",
      "FAILED: shape creation\n",
      "FAILED: shape creation\n",
      "FAILED: shape creation\n",
      "FAILED: shape creation\n",
      "FAILED: shape creation\n",
      "FAILED: shape creation\n",
      "FAILED: shape creation\n",
      "FAILED: shape creation\n",
      "FAILED: shape creation\n",
      "FAILED: shape creation\n",
      "FAILED: shape creation\n",
      "FAILED: shape creation\n",
      "FAILED: shape creation\n",
      "FAILED: shape creation\n",
      "[['Wall', ['IfcWall', 'IfcDoor', 'IfcWindow'], 0, [PointCloud with 19873082 points.]], ['Column', ['IfcColumn'], 1, [PointCloud with 0 points.]], ['Ceiling', ['IfcCovering'], 2, [PointCloud with 3362349 points., PointCloud with 6627668 points., PointCloud with 910567 points.]], ['Floor', ['IfcSlab'], 3, [PointCloud with 6633241 points.]], ['Roof', ['IfcRoof'], 5, [PointCloud with 914089 points.]]]\n",
      "Create trainingdata\n",
      "PointCloud with 51937329 points.\n",
      "PointCloud with 17415334 points.\n",
      "PointCloud with 50500685 points.\n",
      "PointCloud with 17030173 points.\n",
      "PointCloud with 49073999 points.\n",
      "PointCloud with 16527691 points.\n",
      "PointCloud with 49700721 points.\n",
      "PointCloud with 16488709 points.\n",
      "PointCloud with 59318786 points.\n",
      "PointCloud with 20205519 points.\n",
      "PointCloud with 50603497 points.\n",
      "PointCloud with 16878574 points.\n",
      "Save trainingdata\n",
      "[('Wall', PointCloud with 53698437 points.), ('Column', PointCloud with 0 points.), ('Ceiling', PointCloud with 19448907 points.), ('Floor', PointCloud with 19830070 points.), ('Roof', PointCloud with 2342 points.), ('Clutter', PointCloud with 11566244 points.)]\n"
     ]
    }
   ],
   "source": [
    "class_config = [(\"Wall\",[\"IfcWall\",\"IfcDoor\",\"IfcWindow\"]), (\"Column\",[\"IfcColumn\"]), (\"Ceiling\", [\"IfcCovering\"])]\n",
    "loop_projects(r\"C:\\Data\\Projects\", class_config)\n"
   ]
  }
 ],
 "metadata": {
  "interpreter": {
   "hash": "09224df32feb699c2ac2d7483c24048f0abc216e57ff02a2e7de18c7b5708e54"
  },
  "kernelspec": {
   "display_name": "Python 3.8.10 64-bit ('trainingdata': conda)",
   "language": "python",
   "name": "python3"
  },
  "language_info": {
   "codemirror_mode": {
    "name": "ipython",
    "version": 3
   },
   "file_extension": ".py",
   "mimetype": "text/x-python",
   "name": "python",
   "nbconvert_exporter": "python",
   "pygments_lexer": "ipython3",
   "version": "3.8.12"
  },
  "orig_nbformat": 4
 },
 "nbformat": 4,
 "nbformat_minor": 2
}
