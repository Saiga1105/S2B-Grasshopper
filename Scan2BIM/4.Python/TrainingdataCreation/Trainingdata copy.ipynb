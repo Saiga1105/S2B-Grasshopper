{
 "metadata": {
  "language_info": {
   "codemirror_mode": {
    "name": "ipython",
    "version": 3
   },
   "file_extension": ".py",
   "mimetype": "text/x-python",
   "name": "python",
   "nbconvert_exporter": "python",
   "pygments_lexer": "ipython3",
   "version": "3.8.8"
  },
  "orig_nbformat": 4,
  "kernelspec": {
   "name": "python3",
   "display_name": "Python 3.8.8 64-bit ('scan2bim': conda)"
  },
  "interpreter": {
   "hash": "d72c4a735eb44b65cfd5c65b6aafb12e28e04b63b9d23d625bb4178b8a74524e"
  }
 },
 "nbformat": 4,
 "nbformat_minor": 2,
 "cells": [
  {
   "cell_type": "code",
   "execution_count": 1,
   "metadata": {},
   "outputs": [],
   "source": [
    "import numpy as np \n",
    "import open3d as o3d\n",
    "import time\n",
    "\n",
    "Zero_time = time.perf_counter() "
   ]
  },
  {
   "cell_type": "code",
   "execution_count": 2,
   "metadata": {},
   "outputs": [
    {
     "output_type": "stream",
     "name": "stdout",
     "text": [
      "Import meshes ...\n",
      "TriangleMesh with 3633 points and 1211 triangles.\n",
      "Meshes loaded in 1.7024483999999998 s\n",
      "TriangleMesh with 3633 points and 1211 triangles.\n",
      "Convert Mesh to pointcloud\n",
      "Created reference cloud from mesh in 0.6856942999999998 s\n",
      "PointCloud with 10000000 points.\n",
      "Load targeted pointcloudpoint cloud ...\n",
      "Target cloud loaded in 1.4152816000000001 s\n",
      "PointCloud with 7759086 points.\n"
     ]
    }
   ],
   "source": [
    "print(\"Import meshes ...\")\n",
    "mesh = o3d.io.read_triangle_mesh(r\"C:\\Data\\Temp\\012103-40-BIM-Gent\\BIM\\OBJ\\floor.obj\")\n",
    "print(mesh)\n",
    "t1 = time.perf_counter()\n",
    "dt1 = t1 - Zero_time\n",
    "print(\"Meshes loaded in %s s\" % dt1)\n",
    "print(mesh)\n",
    "print(\"Convert Mesh to pointcloud\")\n",
    "meshpcd = mesh.sample_points_uniformly(number_of_points = 10000000, use_triangle_normal=True)\n",
    "t2 = time.perf_counter()\n",
    "dt2 = t2 - t1\n",
    "print(\"Created reference cloud from mesh in %s s\" % dt2)\n",
    "print(meshpcd)\n",
    "\n",
    "print(\"Load targeted pointcloudpoint cloud ...\")\n",
    "pcd = o3d.io.read_point_cloud(r\"C:\\Data\\Temp\\012103-40-BIM-Gent\\RESULTS\\Annotations\\Full.pcd\")\n",
    "t3 = time.perf_counter()\n",
    "dt3 = t3 - t2\n",
    "print(\"Target cloud loaded in %s s\" % dt3)\n",
    "print(pcd)"
   ]
  },
  {
   "cell_type": "code",
   "execution_count": 3,
   "metadata": {},
   "outputs": [
    {
     "output_type": "stream",
     "name": "stdout",
     "text": [
      "True\nTrue\n"
     ]
    }
   ],
   "source": [
    "print(pcd.has_normals())\n",
    "print(meshpcd.has_normals())"
   ]
  },
  {
   "cell_type": "code",
   "execution_count": 4,
   "metadata": {},
   "outputs": [],
   "source": [
    "o3d.visualization.draw_geometries([mesh,pcd])\n",
    "o3d.visualization.draw_geometries([meshpcd])"
   ]
  },
  {
   "cell_type": "code",
   "execution_count": 5,
   "metadata": {},
   "outputs": [
    {
     "output_type": "stream",
     "name": "stdout",
     "text": [
      "Downsampling Pointclouds to excalerate computations Voxel size: 0.02 m\nDownsampled the reference pointcloud in 25.3944324 s\nPointCloud with 1171494 points.\nDownsampled the target pointcloud in 2.5462767 s\nPointCloud with 3208779 points.\n"
     ]
    }
   ],
   "source": [
    "voxel_size = 0.02\n",
    "\n",
    "print(\"Downsampling Pointclouds to excalerate computations Voxel size: %s m\" % voxel_size)\n",
    "\n",
    "ref_voxel = meshpcd.voxel_down_sample(voxel_size)\n",
    "t4 = time.perf_counter()\n",
    "dt4 = t4 - t3\n",
    "print(\"Downsampled the reference pointcloud in %s s\" % dt4)\n",
    "print(ref_voxel)\n",
    "\n",
    "tar_voxel = pcd.voxel_down_sample(voxel_size)\n",
    "\n",
    "t5 = time.perf_counter()\n",
    "dt5 = t5 - t4\n",
    "print(\"Downsampled the target pointcloud in %s s\" % dt5)\n",
    "print(tar_voxel)\n"
   ]
  },
  {
   "cell_type": "code",
   "execution_count": 6,
   "metadata": {},
   "outputs": [],
   "source": [
    "o3d.visualization.draw_geometries([ref_voxel])\n",
    "o3d.visualization.draw_geometries([tar_voxel])"
   ]
  },
  {
   "cell_type": "code",
   "execution_count": 7,
   "metadata": {},
   "outputs": [
    {
     "output_type": "stream",
     "name": "stdout",
     "text": [
      "True\nTrue\n"
     ]
    }
   ],
   "source": [
    "print(ref_voxel.has_normals())\n",
    "print(tar_voxel.has_normals())"
   ]
  },
  {
   "cell_type": "code",
   "execution_count": 8,
   "metadata": {},
   "outputs": [
    {
     "output_type": "stream",
     "name": "stdout",
     "text": [
      "Cloud 2 cloud calculated in 74.8106223 s\n[0.06808726 0.00626655 0.01065923 ... 4.53221826 4.53262253 4.56550146]\n"
     ]
    }
   ],
   "source": [
    "c2c = tar_voxel.compute_point_cloud_distance(ref_voxel)\n",
    "t6 = time.perf_counter()\n",
    "dt6 = t6 - t5\n",
    "c2cArray = np.asarray(c2c)\n",
    "print(\"Cloud 2 cloud calculated in %s s\" % dt6)\n",
    "print(c2cArray)"
   ]
  },
  {
   "cell_type": "code",
   "execution_count": 9,
   "metadata": {},
   "outputs": [
    {
     "output_type": "execute_result",
     "data": {
      "text/plain": [
       "PointCloud with 3208779 points."
      ]
     },
     "metadata": {},
     "execution_count": 9
    }
   ],
   "source": [
    "tar_voxel.paint_uniform_color([0.5,0.5,0.5]) #Grey"
   ]
  },
  {
   "cell_type": "code",
   "execution_count": 10,
   "metadata": {},
   "outputs": [],
   "source": [
    "o3d.visualization.draw_geometries([tar_voxel])"
   ]
  },
  {
   "cell_type": "code",
   "execution_count": 11,
   "metadata": {},
   "outputs": [
    {
     "output_type": "stream",
     "name": "stdout",
     "text": [
      "Seperated in 100.731227 s\n"
     ]
    }
   ],
   "source": [
    "i =0\n",
    "Inlier = []\n",
    "Outlier = []\n",
    "Outlier_points = []\n",
    "Inlier_points = []\n",
    "Inlier_normals = []\n",
    "while i < len(c2c):\n",
    "    if c2c[i] <= 0.1:\n",
    "        np.asarray(tar_voxel.colors)[i] = [0,1,0] #Green\n",
    "        Inlier.append(np.append(tar_voxel.points[i],c2c[i]))\n",
    "        Inlier_points.append(tar_voxel.points[i])\n",
    "        Inlier_normals.append(tar_voxel.normals[i])\n",
    "    elif c2c[i] > 0.1:\n",
    "        Outlier.append(np.append(tar_voxel.points[i],c2c[i]))\n",
    "        Outlier_points.append(tar_voxel.points[i])\n",
    "        np.asarray(tar_voxel.colors)[i] = [1,0,0] #Red\n",
    "    i = i+1\n",
    "\n",
    "t7 = time.perf_counter()\n",
    "dt7 = t7 - t6\n",
    "c2cArray = np.asarray(c2c)\n",
    "print(\"Seperated in %s s\" % dt7)"
   ]
  },
  {
   "cell_type": "code",
   "execution_count": 12,
   "metadata": {},
   "outputs": [
    {
     "output_type": "stream",
     "name": "stdout",
     "text": [
      "PointCloud with 862745 points.\n"
     ]
    }
   ],
   "source": [
    "Inlier_pcd = o3d.geometry.PointCloud()\n",
    "Inlier_pcd.points = o3d.utility.Vector3dVector(Inlier_points)\n",
    "Inlier_pcd.normals = o3d.utility.Vector3dVector(Inlier_normals)\n",
    "print(np.asarray(Inlier_pcd))\n",
    "o3d.visualization.draw_geometries([Inlier_pcd])"
   ]
  },
  {
   "cell_type": "code",
   "execution_count": 13,
   "metadata": {},
   "outputs": [
    {
     "output_type": "stream",
     "name": "stdout",
     "text": [
      "True\n"
     ]
    }
   ],
   "source": [
    "print(Inlier_pcd.has_normals())"
   ]
  },
  {
   "cell_type": "code",
   "execution_count": 14,
   "metadata": {},
   "outputs": [
    {
     "output_type": "stream",
     "name": "stdout",
     "text": [
      "[array([-0.59830534,  0.00942397, -0.32389865]), array([0.07467524, 0.01060498, 0.97862428]), array([0.31351587, 0.78141734, 0.53115213]), array([ 0.0233843 , -0.01947222, -0.99941528]), array([-0.13186828, -0.10826411,  0.98482838]), array([-0.05056142, -0.01564641,  0.99430597]), array([0.12273337, 0.01883892, 0.98879145]), array([-0.0069608 ,  0.0627928 , -0.99539779]), array([-0.35972089,  0.91834629, -0.16504841]), array([-0.00573967,  0.00885221,  0.99838771])]\n"
     ]
    }
   ],
   "source": [
    "print(Inlier_normals[0:10])"
   ]
  },
  {
   "cell_type": "code",
   "execution_count": 21,
   "metadata": {},
   "outputs": [
    {
     "output_type": "execute_result",
     "data": {
      "text/plain": [
       "PointCloud with 862745 points."
      ]
     },
     "metadata": {},
     "execution_count": 21
    }
   ],
   "source": [
    "Inlier_pcd.paint_uniform_color([0.5,0.5,0.5]) #Grey"
   ]
  },
  {
   "source": [
    "De Dichtste mesh vinden \n",
    "\n",
    "Normaal van het punt vergelijken met de normaal van de mesh\n",
    "\n",
    "Afwijkende normale ditchen \n"
   ],
   "cell_type": "markdown",
   "metadata": {}
  },
  {
   "cell_type": "code",
   "execution_count": 16,
   "metadata": {
    "tags": []
   },
   "outputs": [
    {
     "output_type": "stream",
     "name": "stdout",
     "text": [
      "Seperated in 44.26110370000001 s\n"
     ]
    }
   ],
   "source": [
    "#Normalen die niet bij een verticale hoeren weg smijten\n",
    "i =0\n",
    "Floor = []\n",
    "Ceiling = []\n",
    "Outlier = []\n",
    "Outlier_points = []\n",
    "Floor_points = []\n",
    "Ceiling_points = []\n",
    "Floor_normals = []\n",
    "Ceiling_normals = []\n",
    "while i < len(np.asarray(Inlier_pcd.normals)):\n",
    "    normals = np.asarray(Inlier_pcd.normals)[i]\n",
    "    if normals[2] > 0.9:\n",
    "        np.asarray(Inlier_pcd.colors)[i] = [0,1,0] #Green\n",
    "        Floor.append(Inlier_pcd.points[i])\n",
    "        Floor_points.append(Inlier_pcd.points[i])\n",
    "        Floor_normals.append(Inlier_pcd.normals[i])\n",
    "    elif normals[2] < -0.9:\n",
    "        np.asarray(Inlier_pcd.colors)[i] = [0,0,1] #Blue\n",
    "        Ceiling.append(Inlier_pcd.points[i])\n",
    "        Ceiling_points.append(Inlier_pcd.points[i])\n",
    "        Ceiling_normals.append(Inlier_pcd.normals[i])\n",
    "    else:\n",
    "        np.asarray(Inlier_pcd.colors)[i] = [1,0,0] #Red\n",
    "    i = i+1\n",
    "t8 = time.perf_counter()\n",
    "dt8 = t8 - t7\n",
    "print(\"Seperated in %s s\" % dt8)"
   ]
  },
  {
   "cell_type": "code",
   "execution_count": 20,
   "metadata": {},
   "outputs": [
    {
     "output_type": "stream",
     "name": "stdout",
     "text": [
      "Seperated in 1129.9390482000001 s\n"
     ]
    }
   ],
   "source": [
    "i =0\n",
    "Floor = []\n",
    "Ceiling = []\n",
    "Outlier = []\n",
    "Outlier_points = []\n",
    "Floor_points = []\n",
    "Ceiling_points = []\n",
    "Floor_normals = []\n",
    "Ceiling_normals = []\n",
    "while i < len(np.asarray(Inlier_pcd.points)):\n",
    "    normals = np.asarray(Inlier_pcd.normals)[i]\n",
    "    if normals[2] > 0.9:\n",
    "        np.asarray(Inlier_pcd.colors)[i] = [0,1,0] #Green\n",
    "        Floor.append(Inlier_pcd.points[i])\n",
    "        Floor_points.append(Inlier_pcd.points[i])\n",
    "        Floor_normals.append(Inlier_pcd.normals[i])\n",
    "    elif normals[2] < -0.9:\n",
    "        np.asarray(Inlier_pcd.colors)[i] = [0,0,1] #Blue\n",
    "        Ceiling.append(Inlier_pcd.points[i])\n",
    "        Ceiling_points.append(Inlier_pcd.points[i])\n",
    "        Ceiling_normals.append(Inlier_pcd.normals[i])\n",
    "    else:\n",
    "        np.asarray(Inlier_pcd.colors)[i] = [1,0,0] #Red\n",
    "    i = i+1\n",
    "t8 = time.perf_counter()\n",
    "dt8 = t8 - t7\n",
    "print(\"Seperated in %s s\" % dt8)"
   ]
  },
  {
   "cell_type": "code",
   "execution_count": null,
   "metadata": {},
   "outputs": [],
   "source": [
    "Inlier_pcd.colors[200] = [1, 0, 0]# Given query points and rendered in red\n",
    "print(meshpcd)\n",
    "meshpcd_tree = o3d.geometry.KDTreeFlann(pcd)#Create KD tree index\n",
    "[k, idx, _] = pcd_tree.search_knn_vector_3d(Inlier_pcd.points[200], 200)#K Nearest Neighbor Search\n",
    "o3d.np.asarray(Inlier_pcd.colors)[idx[1:], :] = [0, 1, 0]#K neighborhood points, rendered in green"
   ]
  },
  {
   "cell_type": "code",
   "execution_count": 17,
   "metadata": {},
   "outputs": [],
   "source": [
    "o3d.visualization.draw_geometries([Inlier_pcd])"
   ]
  },
  {
   "cell_type": "code",
   "execution_count": 18,
   "metadata": {},
   "outputs": [
    {
     "output_type": "execute_result",
     "data": {
      "text/plain": [
       "True"
      ]
     },
     "metadata": {},
     "execution_count": 18
    }
   ],
   "source": [
    "o3d.io.write_point_cloud(\"Cloud.pcd\", Inlier_pcd, print_progress=True)"
   ]
  }
 ]
}