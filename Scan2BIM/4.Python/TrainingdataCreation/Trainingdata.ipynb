{
 "metadata": {
  "language_info": {
   "codemirror_mode": {
    "name": "ipython",
    "version": 3
   },
   "file_extension": ".py",
   "mimetype": "text/x-python",
   "name": "python",
   "nbconvert_exporter": "python",
   "pygments_lexer": "ipython3",
   "version": "3.8.8"
  },
  "orig_nbformat": 4,
  "kernelspec": {
   "name": "python3",
   "display_name": "Python 3.8.8 64-bit ('scan2bim': conda)"
  },
  "interpreter": {
   "hash": "d72c4a735eb44b65cfd5c65b6aafb12e28e04b63b9d23d625bb4178b8a74524e"
  }
 },
 "nbformat": 4,
 "nbformat_minor": 2,
 "cells": [
  {
   "cell_type": "code",
   "execution_count": 1,
   "source": [
    "import numpy as np \r\n",
    "import open3d as o3d\r\n",
    "import time\r\n",
    "import logging\r\n",
    "import math\r\n",
    "import trimesh\r\n",
    "\r\n",
    "sample_directory = r\"C:\\Repo\\SCAN2BIM-python\\Samples\\TrainingdataCreation\"\r\n",
    "voxel_size = 0.05"
   ],
   "outputs": [],
   "metadata": {}
  },
  {
   "cell_type": "code",
   "execution_count": 2,
   "source": [
    "print(\"... FLOOR ...\")\r\n",
    "\r\n",
    "mesh_floor = o3d.io.read_triangle_mesh(r\"C:\\Data\\Temp\\012103-40-BIM-Gent\\BIM\\OBJ\\floor.obj\")\r\n",
    "print(mesh_floor)\r\n",
    "# o3d.visualization.draw_geometries([mesh_wall])\r\n",
    "tri_mesh_floor = trimesh.Trimesh(vertices=np.asarray(mesh_floor.vertices), faces=np.asarray(mesh_floor.triangles))\r\n",
    "# wall_triangles_centers = tri_mesh_wall.triangles_center\r\n",
    "# tri_mesh_wall.show()\r\n",
    "\r\n",
    "\r\n",
    "print(\"... WALL ...\")\r\n",
    "\r\n",
    "mesh_wall = o3d.io.read_triangle_mesh(r\"C:\\Data\\Temp\\012103-40-BIM-Gent\\BIM\\OBJ\\wall.obj\")\r\n",
    "print(mesh_wall)\r\n",
    "# o3d.visualization.draw_geometries([mesh_wall])\r\n",
    "tri_mesh_wall = trimesh.Trimesh(vertices=np.asarray(mesh_wall.vertices), faces=np.asarray(mesh_wall.triangles))\r\n",
    "# wall_triangles_centers = tri_mesh_wall.triangles_center\r\n",
    "# tri_mesh_wall.show()\r\n",
    "\r\n",
    "\r\n",
    "# print(\"... BEAM ...\")\r\n",
    "# mesh_beam = o3d.io.read_triangle_mesh(r\"C:\\Data\\Temp\\012103-40-BIM-Gent\\BIM\\OBJ\\beam.obj\")\r\n",
    "# print(mesh_beam)\r\n",
    "# tri_mesh_beam = trimesh.Trimesh(vertices=np.asarray(mesh_beam.vertices), faces=np.asarray(mesh_beam.triangles))\r\n",
    "# beam_triangles_centers = tri_mesh_beam.triangles_center\r\n",
    "# tri_mesh_beam.show()\r\n",
    "\r\n",
    "\r\n",
    "meshes = [tri_mesh_floor, tri_mesh_wall] #, tri_mesh_beam]\r\n",
    "mesh = trimesh.util.concatenate(meshes)\r\n",
    "# mesh.show()\r\n",
    "# # o3d.visualization.draw_geometries([meshpcd_beam])\r\n",
    "\r\n",
    "# print(\"... COLUMN ...\")\r\n",
    "# mesh_column = o3d.io.read_triangle_mesh(r\"C:\\Data\\Temp\\012103-40-BIM-Gent\\BIM\\OBJ\\column.obj\")\r\n",
    "# print(mesh_column)\r\n",
    "\r\n",
    "# # o3d.visualization.draw_geometries([meshpcd_column])"
   ],
   "outputs": [
    {
     "output_type": "stream",
     "name": "stdout",
     "text": [
      "... FLOOR ...\n",
      "TriangleMesh with 3633 points and 1211 triangles.\n",
      "... WALL ...\n",
      "TriangleMesh with 9258 points and 3086 triangles.\n"
     ]
    }
   ],
   "metadata": {}
  },
  {
   "cell_type": "code",
   "execution_count": 3,
   "source": [
    "# i=0\r\n",
    "\r\n",
    "# total_length = len(tri_mesh_wall.triangles) + len(tri_mesh_beam.triangles)\r\n",
    "\r\n",
    "# correct = 0\r\n",
    "# wrong = 0\r\n",
    "\r\n",
    "# while i < total_length:\r\n",
    "#     while i < len(tri_mesh_wall.triangles):\r\n",
    "#         if tri_mesh_wall.triangles[i].all() == mesh.triangles[i].all():\r\n",
    "#             correct = correct + 1\r\n",
    "#         else: \r\n",
    "#             wrong = wrong +1\r\n",
    "#         i= i+1\r\n",
    "#     while i < len(tri_mesh_wall.triangles) + len(tri_mesh_beam.triangles):\r\n",
    "#         if tri_mesh_beam.triangles[i-len(tri_mesh_wall.triangles)].all() == mesh.triangles[i].all():\r\n",
    "#             correct = correct + 1\r\n",
    "#         else: \r\n",
    "#             wrong = wrong +1\r\n",
    "#         i= i+1\r\n",
    "# print(\"%s / %s \" %(correct,total_length))"
   ],
   "outputs": [],
   "metadata": {}
  },
  {
   "cell_type": "code",
   "execution_count": 4,
   "source": [
    "mesh_labels =[]\r\n",
    "label_id = [ \"Ceiling\", \"Floor\", \"Wall\", \"Beam\", \"Column\", \"Clutter\"]\r\n",
    "logging.info(\"LABELS:\\n0: %s \\n1: %s \\n2: %s \\n3: %s \\n4: %s \\n5: %s\" % (label_id[0],label_id[1],label_id[2],label_id[3],label_id[4],label_id[5]))\r\n",
    "\r\n",
    "length_floor = len(tri_mesh_floor.triangles)\r\n",
    "i = 0\r\n",
    "while i < length_floor:\r\n",
    "    mesh_labels.append(\"1\")\r\n",
    "    i =  i+1\r\n",
    "\r\n",
    "length_wall = len(tri_mesh_wall.triangles)\r\n",
    "i = 0\r\n",
    "while i < length_wall:\r\n",
    "    mesh_labels.append(\"2\")\r\n",
    "    i =  i+1\r\n",
    "\r\n",
    "# length_beam = len(tri_mesh_beam.triangles)\r\n",
    "# i = 0\r\n",
    "# while i < length_beam:\r\n",
    "#     mesh_labels.append(\"3\")\r\n",
    "#     i =  i+1\r\n",
    "\r\n",
    "print(\"%s / %s\" %(len(mesh_labels), len(mesh.triangles)))\r\n"
   ],
   "outputs": [
    {
     "output_type": "stream",
     "name": "stdout",
     "text": [
      "4297 / 4297\n"
     ]
    }
   ],
   "metadata": {}
  },
  {
   "cell_type": "code",
   "execution_count": 5,
   "source": [
    "print(\"Load targeted pointcloudpoint cloud ...\")\r\n",
    "pointcloud_location = r\"C:\\Data\\Temp\\012103-40-BIM-Gent\\RESULTS\\Annotations\\wall_part.pcd\"\r\n",
    "pcd = o3d.io.read_point_cloud(pointcloud_location)\r\n",
    "print(pcd)\r\n",
    "\r\n",
    "print(\"Downsampling pointcloud with voxel size: %s m\" % voxel_size)\r\n",
    "logging.info(\"Downsampling pointcloud with voxel size: %s m\" % voxel_size)\r\n",
    "pcd = pcd.voxel_down_sample(voxel_size)\r\n",
    "print(pcd)\r\n",
    "pcd.normalize_normals()\r\n",
    "pcd.paint_uniform_color([1,1,1])"
   ],
   "outputs": [
    {
     "output_type": "stream",
     "name": "stdout",
     "text": [
      "Load targeted pointcloudpoint cloud ...\n",
      "PointCloud with 1375125 points.\n",
      "Downsampling pointcloud with voxel size: 0.05 m\n",
      "PointCloud with 92005 points.\n"
     ]
    },
    {
     "output_type": "execute_result",
     "data": {
      "text/plain": [
       "PointCloud with 92005 points."
      ]
     },
     "metadata": {},
     "execution_count": 5
    }
   ],
   "metadata": {}
  },
  {
   "cell_type": "markdown",
   "source": [
    "De Dichtste mesh vinden \n",
    "\n",
    "Normaal van het punt vergelijken met de normaal van de mesh\n",
    "\n",
    "Afwijkende normale ditchen \n"
   ],
   "metadata": {}
  },
  {
   "cell_type": "code",
   "execution_count": 6,
   "source": [
    "# Filter pointcloud on normals and assign labels.\r\n",
    "i=0\r\n",
    "Outlier_indeces = []\r\n",
    "closest_faces = trimesh.proximity.nearby_faces(mesh, pcd.points)\r\n"
   ],
   "outputs": [],
   "metadata": {}
  },
  {
   "cell_type": "code",
   "execution_count": 7,
   "source": [
    "print(len(closest_faces[5000]))"
   ],
   "outputs": [
    {
     "output_type": "stream",
     "name": "stdout",
     "text": [
      "42\n"
     ]
    }
   ],
   "metadata": {}
  },
  {
   "cell_type": "code",
   "execution_count": 8,
   "source": [
    "labels = [\"5\"]*len(pcd.points)\r\n",
    "print(len(pcd.points))\r\n",
    "print(len(labels))\r\n",
    "print(len(closest_faces))\r\n",
    "print(\"Clutter: %s\" % labels.count(\"5\"))\r\n",
    "print(\"Wall: %s\" % labels.count(\"2\"))"
   ],
   "outputs": [
    {
     "output_type": "stream",
     "name": "stdout",
     "text": [
      "92005\n",
      "92005\n",
      "92005\n",
      "Clutter: 92005\n",
      "Wall: 0\n"
     ]
    }
   ],
   "metadata": {}
  },
  {
   "cell_type": "code",
   "execution_count": 9,
   "source": [
    "t = time.perf_counter()\r\n",
    "i = 0\r\n",
    "percentage = 0\r\n",
    "To_far = 0\r\n",
    "No_normal = 0\r\n",
    "Match_neg = 0\r\n",
    "Match_pos = 0\r\n",
    "while i < len(pcd.points):\r\n",
    "    Not_found = True\r\n",
    "\r\n",
    "    point = np.asarray(pcd.points[i])\r\n",
    "    # print(\"point: %s\" % point)\r\n",
    "    point_normal = np.asarray(pcd.normals[i])\r\n",
    "\r\n",
    "    neirest_faces = closest_faces[i]\r\n",
    "    # print(\"neirest_faces: %s\" % neirest_faces)\r\n",
    "    distances = []\r\n",
    "    distances_id = []\r\n",
    "    #Compute distance to neirest face\r\n",
    "    for face in neirest_faces:\r\n",
    "        # print(\"face: %s \" %neirest_faces[i1])\r\n",
    "        triangle = mesh.triangles[face]\r\n",
    "        # print(\"triangle: %s\" %triangle)\r\n",
    "        closest_point = trimesh.triangles.closest_point([triangle],[pcd.points[i]])\r\n",
    "        # print(\"closest point: %s \" % closest_point)\r\n",
    "        dist = np.linalg.norm(point - closest_point)\r\n",
    "        # print(\"distance: %s\" % dist)\r\n",
    "        distances.append(dist)\r\n",
    "\r\n",
    "    # print(\"... distances...\")\r\n",
    "    # print(distances)\r\n",
    "    # print(\"Minimal distance: %s\" % min(distances))\r\n",
    "    \r\n",
    "    #if min distance is lower than 0.15 cm then then a index list of distances is created from low to high\r\n",
    "    if min(distances) > 0.15:\r\n",
    "        np.asarray(pcd.colors)[i] = [0,0,0]\r\n",
    "        To_far = To_far +1\r\n",
    "        Not_found = False\r\n",
    "    else:\r\n",
    "        distances_id = np.argsort(distances)\r\n",
    "    \r\n",
    "    # print(distances)\r\n",
    "\r\n",
    "    # print(\" %s / %s / %s\" %(len(neirest_faces),len(distances_id),len(distances)))\r\n",
    "\r\n",
    "\r\n",
    "    i1 = 0\r\n",
    "\r\n",
    "    \r\n",
    "    while Not_found and i1 < len(distances_id) and distances[distances_id[i1]] <= 0.15:\r\n",
    "        \r\n",
    "        # print(\"index of distance: %s\" % distances_id[i1])\r\n",
    "        # print(\"index of triangle: %s\" % neirest_faces[distances_id[i1]])\r\n",
    "        triangle = mesh.triangles[neirest_faces[distances_id[i1]]]\r\n",
    "        # print(\"triangle: %s\" %triangle)\r\n",
    "        mesh_normal = np.asarray(trimesh.triangles.normals(triangle))[0][0]\r\n",
    "        # print(\"mesh normaal: %s \" %mesh_normal)\r\n",
    "        # print(\"mesh normaal norm: %s \"% np.linalg.norm(mesh_normal))\r\n",
    "        # print(\"point normaal: %s \" %point_normal)\r\n",
    "        # print(\"point normaal norm: %s \"% np.linalg.norm(point_normal))\r\n",
    "\r\n",
    "        # print(\"Dot product: %s \" % np.dot(np.asarray(point_normal), np.asarray(mesh_normal)))\r\n",
    "\r\n",
    "        if np.dot(np.asarray(point_normal), np.asarray(mesh_normal)) > 0.6:\r\n",
    "            labels[i] = mesh_labels[neirest_faces[distances_id[i1]]]\r\n",
    "            np.asarray(pcd.colors)[i] = [0,0,1]\r\n",
    "            Match_pos = Match_pos +1\r\n",
    "            Not_found = False\r\n",
    "        if np.dot(np.asarray(point_normal), np.asarray(mesh_normal)) < -0.6:\r\n",
    "            labels[i] = mesh_labels[neirest_faces[distances_id[i1]]]\r\n",
    "            np.asarray(pcd.colors)[i] = [0,1,1]\r\n",
    "            Match_neg = Match_neg +1\r\n",
    "        i1  = i1+1\r\n",
    "    if Not_found and pcd.colors[i].all() == np.asarray([1,1,1]).all():\r\n",
    "        np.asarray(pcd.colors)[i] = [1,0,0]\r\n",
    "        # print(\"No matching normal\")\r\n",
    "        No_normal = No_normal +1 \r\n",
    "\r\n",
    "    progress = i/len(np.asarray(pcd.points))*100\r\n",
    "    if progress >= percentage:\r\n",
    "        timing = time.perf_counter()\r\n",
    "        dtiming = timing - t\r\n",
    "        hours = math.floor(dtiming/3600)\r\n",
    "        minutes = math.floor(dtiming/60 - hours*60)\r\n",
    "        seconds = dtiming - hours*3600 - minutes*60\r\n",
    "        print(\"progress: %s %% - %sh %smin %ss\" %(round(progress),hours, minutes, seconds))\r\n",
    "        percentage = percentage + 5\r\n",
    "    i= i+1\r\n",
    "print(\"Points to far: %s//%s\" %(To_far, len(pcd.points)))\r\n",
    "print(\"Points with pos matching normal: %s/%s\" %(Match_pos, len(pcd.points)))\r\n",
    "print(\"Points with neg matching normal: %s/%s\" %(Match_neg, len(pcd.points)))\r\n",
    "print(\"Points with no matching normal: %s/%s\" %(No_normal, len(pcd.points)))"
   ],
   "outputs": [
    {
     "output_type": "stream",
     "name": "stdout",
     "text": [
      "progress: 0 % - 0h 0min 0.008000599999832048s\n"
     ]
    },
    {
     "output_type": "stream",
     "name": "stderr",
     "text": [
      "C:\\Users\\SamDeGeyter\\anaconda3\\envs\\scan2bim\\lib\\site-packages\\numpy\\core\\_asarray.py:83: VisibleDeprecationWarning: Creating an ndarray from ragged nested sequences (which is a list-or-tuple of lists-or-tuples-or ndarrays with different lengths or shapes) is deprecated. If you meant to do this, you must specify 'dtype=object' when creating the ndarray\n",
      "  return array(a, dtype, copy=False, order=order)\n"
     ]
    },
    {
     "output_type": "stream",
     "name": "stdout",
     "text": [
      "progress: 5 % - 0h 0min 17.80085289999988s\n",
      "progress: 10 % - 0h 0min 36.21082209999986s\n",
      "progress: 15 % - 0h 0min 55.00351010000031s\n",
      "progress: 20 % - 0h 1min 12.458414800000355s\n",
      "progress: 25 % - 0h 1min 30.720494399999552s\n",
      "progress: 30 % - 0h 1min 52.8060945999996s\n",
      "progress: 35 % - 0h 2min 12.929670299999998s\n",
      "progress: 40 % - 0h 2min 34.884430000000066s\n",
      "progress: 45 % - 0h 2min 58.701539100000446s\n",
      "progress: 50 % - 0h 3min 20.97893060000024s\n",
      "progress: 55 % - 0h 3min 47.66340610000043s\n",
      "progress: 60 % - 0h 4min 9.915358500000366s\n",
      "progress: 65 % - 0h 4min 30.041446199999882s\n",
      "progress: 70 % - 0h 4min 46.0179177s\n",
      "progress: 75 % - 0h 5min 3.7186099000000468s\n",
      "progress: 80 % - 0h 5min 23.071425899999667s\n",
      "progress: 85 % - 0h 5min 43.38185760000033s\n",
      "progress: 90 % - 0h 6min 5.500499300000229s\n",
      "progress: 95 % - 0h 6min 21.143889500000114s\n",
      "Points to far: 29881//92005\n",
      "Points with pos matching normal: 31902/92005\n",
      "Points with neg matching normal: 27339/92005\n",
      "Points with no matching normal: 15885/92005\n"
     ]
    }
   ],
   "metadata": {}
  },
  {
   "cell_type": "code",
   "execution_count": 10,
   "source": [
    "t = time.perf_counter()\r\n",
    "i=0\r\n",
    "percentage = 0\r\n",
    "\r\n",
    "\r\n",
    "while i < len(np.asarray(pcd.points)):\r\n",
    "    if labels[i] == \"0\":\r\n",
    "        np.asarray(pcd.colors)[i] = [0,0,0]\r\n",
    " \r\n",
    "\r\n",
    "    elif labels[i] == \"1\":\r\n",
    "        np.asarray(pcd.colors)[i] = [1,0,0]\r\n",
    "       \r\n",
    "\r\n",
    "    elif labels[i] == \"2\":\r\n",
    "        np.asarray(pcd.colors)[i] = [0,1,0]\r\n",
    "   \r\n",
    "\r\n",
    "    elif labels[i] == \"3\":\r\n",
    "        np.asarray(pcd.colors)[i] = [0,0,1]\r\n",
    "\r\n",
    "    elif labels[i] == \"4\":\r\n",
    "        np.asarray(pcd.colors)[i] = [1,1,0]\r\n",
    "    elif labels[i] == \"5\":\r\n",
    "        np.asarray(pcd.colors)[i] = [1,1,1]\r\n",
    "      \r\n",
    "\r\n",
    "    progress = i/len(np.asarray(pcd.points))*100\r\n",
    "    if progress >= percentage:\r\n",
    "        timing = time.perf_counter()\r\n",
    "        dtiming = timing - t\r\n",
    "        hours = math.floor(dtiming/3600)\r\n",
    "        minutes = math.floor(dtiming/60 - hours*60)\r\n",
    "        seconds = dtiming - hours*3600 - minutes*60\r\n",
    "        print(\"progress: %s %% - %sh %smin %ss\" %(round(progress),hours, minutes, seconds))\r\n",
    "        percentage = percentage + 5\r\n",
    "    i= i+1\r\n",
    "\r\n",
    "print(\"...DONE...\")\r\n"
   ],
   "outputs": [
    {
     "output_type": "stream",
     "name": "stdout",
     "text": [
      "progress: 0 % - 0h 0min 0.00023090000013326062s\n",
      "progress: 5 % - 0h 0min 0.04415340000014112s\n",
      "progress: 10 % - 0h 0min 0.08778940000047442s\n",
      "progress: 15 % - 0h 0min 0.1308853000000454s\n",
      "progress: 20 % - 0h 0min 0.17338509999990492s\n",
      "progress: 25 % - 0h 0min 0.21567640000012034s\n",
      "progress: 30 % - 0h 0min 0.2580625999999029s\n",
      "progress: 35 % - 0h 0min 0.3009984999998778s\n",
      "progress: 40 % - 0h 0min 0.342952800000603s\n",
      "progress: 45 % - 0h 0min 0.3851168000001053s\n",
      "progress: 50 % - 0h 0min 0.4274875000000975s\n",
      "progress: 55 % - 0h 0min 0.46985490000042773s\n",
      "progress: 60 % - 0h 0min 0.5117461999998341s\n",
      "progress: 65 % - 0h 0min 0.5548110999998244s\n",
      "progress: 70 % - 0h 0min 0.6022804000003816s\n",
      "progress: 75 % - 0h 0min 0.6448311000003741s\n",
      "progress: 80 % - 0h 0min 0.6868480000002819s\n",
      "progress: 85 % - 0h 0min 0.729542400000355s\n",
      "progress: 90 % - 0h 0min 0.7747527000001355s\n",
      "progress: 95 % - 0h 0min 0.8169576000000234s\n",
      "...DONE...\n"
     ]
    }
   ],
   "metadata": {}
  },
  {
   "cell_type": "code",
   "execution_count": null,
   "source": [
    "o3d.visualization.draw_geometries([pcd])"
   ],
   "outputs": [],
   "metadata": {}
  }
 ]
}