{
 "cells": [
  {
   "cell_type": "code",
   "execution_count": 1,
   "metadata": {},
   "outputs": [
    {
     "name": "stdout",
     "output_type": "stream",
     "text": [
      "Jupyter environment detected. Enabling Open3D WebVisualizer.\n",
      "[Open3D INFO] WebRTC GUI backend enabled.\n",
      "[Open3D INFO] WebRTCWindowSystem: HTTP handshake server disabled.\n"
     ]
    }
   ],
   "source": [
    "import ifcopenshell.util\n",
    "import ifcopenshell.geom as geom\n",
    "from ifcopenshell.util.selector import Selector\n",
    "import open3d as o3d\n",
    "import multiprocessing\n"
   ]
  },
  {
   "cell_type": "code",
   "execution_count": 2,
   "metadata": {},
   "outputs": [],
   "source": [
    "ifc_file = ifcopenshell.open(r\"D:\\SAM-Temp\\Projects\\2021-06-BIM-Gent Loesbergkaai\\MODELS\\IFC\\01203-40-BIM-Gent Loesbergkaai_3D Model IFC_R01.ifc\")\n",
    "selector = Selector()\n",
    "walls = selector.parse(ifc_file, '.IfcWall') # This is equivalent to ifc.by_type('IfcWall')"
   ]
  },
  {
   "cell_type": "code",
   "execution_count": 3,
   "metadata": {},
   "outputs": [
    {
     "name": "stdout",
     "output_type": "stream",
     "text": [
      "settings(APPLY_DEFAULT_MATERIALS = False, APPLY_LAYERSETS = False, BUILDING_LOCAL_PLACEMENT = False, CONVERT_BACK_UNITS = False, DISABLE_BOOLEAN_RESULT = False, DISABLE_OPENING_SUBTRACTIONS = False, DISABLE_TRIANGULATION = False, EDGE_ARROWS = False, EXCLUDE_SOLIDS_AND_SURFACES = False, FASTER_BOOLEANS = False, GENERATE_UVS = False, INCLUDE_CURVES = False, LAYERSET_FIRST = False, NO_NORMALS = False, NO_WIRE_INTERSECTION_CHECK = False, NO_WIRE_INTERSECTION_TOLERANCE = False, SEARCH_FLOOR = False, SEW_SHELLS = False, SITE_LOCAL_PLACEMENT = False, STRICT_TOLERANCE = False, USE_BREP_DATA = False, USE_WORLD_COORDS = True, VALIDATE_QUANTITIES = False, WELD_VERTICES = True)\n"
     ]
    }
   ],
   "source": [
    "settings = geom.settings()\n",
    "settings.set(settings.USE_WORLD_COORDS, True)\n",
    "print(settings)"
   ]
  },
  {
   "cell_type": "code",
   "execution_count": 4,
   "metadata": {},
   "outputs": [],
   "source": [
    "for ifc_entity in ifc_file.by_type(\"IfcWall\"):\n",
    "    # print(ifc_entity)\n",
    "    try: \n",
    "        shape = geom.create_shape(settings, ifc_entity)\n",
    "        # ios stands for IfcOpenShell\n",
    "        ios_vertices = shape.geometry.verts\n",
    "        ios_edges = shape.geometry.edges\n",
    "        ios_faces = shape.geometry.faces\n",
    "        # IfcOpenShell store vertices in a single tuple, same for edges and faces\n",
    "        # print(ios_vertices)\n",
    "        # print(ios_edges)\n",
    "        # print(ios_faces)\n",
    "\n",
    "        grouped_verts = [[ios_vertices[i], ios_vertices[i + 1], ios_vertices[i + 2]] for i in range(0, len(ios_vertices), 3)]\n",
    "        grouped_faces = [[ios_faces[i], ios_faces[i + 1], ios_faces[i + 2]] for i in range(0, len(ios_faces), 3)]\n",
    "        # print(grouped_verts)\n",
    "    except:\n",
    "        print(\"FAILED: shape creation\")\n",
    "    \n",
    "\n",
    "    "
   ]
  },
  {
   "cell_type": "code",
   "execution_count": 6,
   "metadata": {},
   "outputs": [
    {
     "name": "stdout",
     "output_type": "stream",
     "text": [
      "[[2, 1, 0], [2, 3, 1], [9, 0, 11], [9, 5, 0], [2, 0, 5], [10, 9, 11], [8, 10, 2], [8, 9, 10], [7, 2, 5], [7, 8, 2], [4, 7, 5], [6, 7, 4], [10, 3, 2], [10, 11, 1], [3, 10, 1], [11, 0, 1], [16, 14, 15], [17, 13, 14], [17, 14, 16], [6, 4, 13], [6, 17, 12], [6, 13, 17], [9, 20, 21], [19, 20, 9], [8, 19, 9], [18, 6, 12], [18, 19, 8], [18, 8, 7], [18, 7, 6], [5, 9, 21], [22, 5, 21], [5, 22, 23], [24, 5, 23], [4, 5, 24], [25, 13, 4], [24, 25, 4], [14, 13, 25], [14, 25, 26], [27, 15, 14], [26, 27, 14], [15, 27, 28], [15, 28, 16], [28, 29, 17], [28, 17, 16], [17, 29, 18], [17, 18, 12], [26, 29, 28], [26, 28, 27], [25, 29, 26], [19, 18, 29], [19, 29, 25], [24, 19, 25], [24, 20, 19], [23, 20, 24], [20, 23, 22], [21, 20, 22]]\n"
     ]
    }
   ],
   "source": [
    "print(grouped_faces)"
   ]
  }
 ],
 "metadata": {
  "interpreter": {
   "hash": "d72c4a735eb44b65cfd5c65b6aafb12e28e04b63b9d23d625bb4178b8a74524e"
  },
  "kernelspec": {
   "display_name": "Python 3.8.8 64-bit ('scan2bim': conda)",
   "name": "python3"
  },
  "language_info": {
   "codemirror_mode": {
    "name": "ipython",
    "version": 3
   },
   "file_extension": ".py",
   "mimetype": "text/x-python",
   "name": "python",
   "nbconvert_exporter": "python",
   "pygments_lexer": "ipython3",
   "version": "3.8.8"
  },
  "orig_nbformat": 4
 },
 "nbformat": 4,
 "nbformat_minor": 2
}
